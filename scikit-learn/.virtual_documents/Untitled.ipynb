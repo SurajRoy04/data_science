from sklearn.tree import DecisionTreeClassifier


# Step 1: Collect Data
# Features: [weight (grams), color (0 = red, 1 = orange)]
features = [
    [150, 0],  # Apple
    [170, 0],  # Apple
    [130, 1],  # Orange
    [120, 1],  # Orange
]


labels = ["apple", "apple", "orange", "orange"]


clf = DecisionTreeClassifier()
clf = clf.fit(features, labels)


print(clf.predict([[160, 0]]))


print(clf.predict([[110, 1]]))


print(clf.predict([[34, 0]]))


from sklearn.tree import plot_tree


import matplotlib.pyplot as plt


plt.figure(figsize=(10,6))
plot_tree(clf, feature_names=["weight", "color"], class_names=["apple", "orange"], filled=True)
plt.show()



