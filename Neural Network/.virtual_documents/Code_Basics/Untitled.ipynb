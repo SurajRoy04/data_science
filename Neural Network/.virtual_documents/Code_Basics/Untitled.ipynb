import math
def sigmoid(x):
    return 1 / ( 1 + math.exp(-x))


sigmoid(100)


sigmoid(-12)


def tanh(x):
    return (math.exp(x)-math.exp(-x))/(math.exp(x)+math.exp(-x))


tanh(-56)


tanh(56)


def relu(x):
    return max(0,x)


relu(-1)


def leaky_relu(x):
    return max(0.1*x,x)


leaky_relu(-1)



