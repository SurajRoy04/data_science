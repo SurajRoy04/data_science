{
 "cells": [
  {
   "cell_type": "code",
   "execution_count": 1,
   "id": "ac97ca86-1b9d-466f-a4af-37929b3c2331",
   "metadata": {},
   "outputs": [
    {
     "name": "stdout",
     "output_type": "stream",
     "text": [
      "0\n",
      "0\n",
      "0\n",
      "1\n"
     ]
    }
   ],
   "source": [
    "def step(x):\n",
    "    return 1 if x >= 0 else 0\n",
    "\n",
    "def perceptron(x1, x2, w1, w2, b):\n",
    "    z = x1 * w1 + x2 * w2 + b\n",
    "    return step(z)\n",
    "\n",
    "# Try different weights and bias to match the AND logic\n",
    "print(perceptron(0, 0, 1, 1, -1.5))  # Expected: 0\n",
    "print(perceptron(0, 1, 1, 1, -1.5))  # Expected: 0\n",
    "print(perceptron(1, 0, 1, 1, -1.5))  # Expected: 0\n",
    "print(perceptron(1, 1, 1, 1, -1.5))  # Expected: 1"
   ]
  },
  {
   "cell_type": "code",
   "execution_count": null,
   "id": "ae970d37-2101-4704-8f24-dac5c04c3aa6",
   "metadata": {},
   "outputs": [],
   "source": []
  }
 ],
 "metadata": {
  "kernelspec": {
   "display_name": "Python [conda env:base] *",
   "language": "python",
   "name": "conda-base-py"
  },
  "language_info": {
   "codemirror_mode": {
    "name": "ipython",
    "version": 3
   },
   "file_extension": ".py",
   "mimetype": "text/x-python",
   "name": "python",
   "nbconvert_exporter": "python",
   "pygments_lexer": "ipython3",
   "version": "3.12.7"
  }
 },
 "nbformat": 4,
 "nbformat_minor": 5
}
