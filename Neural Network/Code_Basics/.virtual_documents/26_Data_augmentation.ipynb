import matplotlib.pyplot as plt
import numpy as np
import cv2
import os
import PIL
import tensorflow as tf

from tensorflow import keras
from tensorflow.keras import layers
from tensorflow.keras.models import Sequential


!pip install opencv-python


dataset_url = "https://storage.googleapis.com/download.tensorflow.org/example_images/flower_photos.tgz"
data_dir = tf.keras.utils.get_file('flower_photos', origin=dataset_url,  cache_dir='.', untar=True)
# cache_dir indicates where to download data. I specified . which means current directory
# untar true will unzip it


data_dir


from pathlib import Path
data_dir = Path("/datasets/flower_photos/flower_photos")
data_dir


daisy_images = list((data_dir / "daisy").glob("*.jpg"))
print("Number of daisy images:", len(daisy_images))
print("First 5 images:", daisy_images[:5])


print((data_dir / "daisy").exists())


daisy_images = list((data_dir / "daisy").glob("*.jpeg")) \
             + list((data_dir / "daisy").glob("*.jpg")) \
             + list((data_dir / "daisy").glob("*.JPG")) \
             + list((data_dir / "daisy").glob("*.png"))

print("Number of daisy images:", len(daisy_images))


data_dir = Path("/datasets/flower_photos/flower_photos")

# Match multiple extensions
daisy_images = []
for ext in ["*.jpg", "*.jpeg", "*.JPG", "*.JPEG", "*.png"]:
    daisy_images.extend((data_dir / "daisy").glob(ext))

print("Number of daisy images:", len(daisy_images))
print("First 5 images:", daisy_images[:5])


data_dir = Path(r"D:\Apps_Download\Data_Science\practicals\Neural Network\Code_Basics\datasets\flower_photos\flower_photos")
print(data_dir.exists()) 


image_count = len(list(data_dir.glob('*/*.jpg')))
print(image_count)


roses = list(data_dir.glob('roses/*'))
roses[:5]
PIL.Image.open(str(roses[1]))


flowers_images_dict = {
    'roses': list(data_dir.glob('roses/*')),
    'daisy': list(data_dir.glob('daisy/*')),
    'dandelion': list(data_dir.glob('dandelion/*')),
    'sunflowers': list(data_dir.glob('sunflowers/*')),
    'tulips': list(data_dir.glob('tulips/*')),
}


flowers_labels_dict = {
    'roses': 0,
    'daisy': 1,
    'dandelion': 2,
    'sunflowers': 3,
    'tulips': 4,
}


flowers_images_dict['roses'][:5]


str(flowers_images_dict['roses'][0])


img = cv2.imread(str(flowers_images_dict['roses'][0]))


cv2.resize(img,(180,180)).shape


X, y = [], []

for flower_name, images in flowers_images_dict.items():
    for image in images:
        img = cv2.imread(str(image))
        resized_img = cv2.resize(img,(180,180))
        X.append(resized_img)
        y.append(flowers_labels_dict[flower_name])



