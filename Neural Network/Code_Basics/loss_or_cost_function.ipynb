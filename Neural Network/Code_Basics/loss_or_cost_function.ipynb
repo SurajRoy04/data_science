{
 "cells": [
  {
   "cell_type": "code",
   "execution_count": 1,
   "id": "1d39d948-44b1-4895-9e9f-f77ccee1f576",
   "metadata": {},
   "outputs": [],
   "source": [
    "https://github.com/codebasics/deep-learning-keras-tf-tutorial/blob/master/6_gradient_descent/6_gradient_descent.ipynb\n",
    "\n",
    "import numpy as np"
   ]
  },
  {
   "cell_type": "code",
   "execution_count": 3,
   "id": "766b50b5-9370-414d-a1dc-56485e8dfc26",
   "metadata": {},
   "outputs": [],
   "source": [
    "y_predicted = np.array([1,1,0,0,1])\n",
    "y_true = np.array([0.3,0.7,1,0,0.5])"
   ]
  },
  {
   "cell_type": "code",
   "execution_count": 5,
   "id": "16b78ecf-9f22-43c8-b55f-047f746f2dc6",
   "metadata": {},
   "outputs": [
    {
     "data": {
      "text/plain": [
       "0.5"
      ]
     },
     "execution_count": 5,
     "metadata": {},
     "output_type": "execute_result"
    }
   ],
   "source": [
    "np.mean(np.abs(y_predicted-y_true))"
   ]
  },
  {
   "cell_type": "code",
   "execution_count": 7,
   "id": "38b72073-0e5d-475f-b265-a19027918014",
   "metadata": {},
   "outputs": [
    {
     "data": {
      "text/plain": [
       "array([-2.30258509])"
      ]
     },
     "execution_count": 7,
     "metadata": {},
     "output_type": "execute_result"
    }
   ],
   "source": [
    "np.log([0.1])"
   ]
  },
  {
   "cell_type": "code",
   "execution_count": 9,
   "id": "173b38d7-1870-452e-a224-674f49667b9f",
   "metadata": {},
   "outputs": [],
   "source": [
    "epsilon = 1e-15"
   ]
  },
  {
   "cell_type": "code",
   "execution_count": 31,
   "id": "9a39d3e8-811e-49a0-af59-3da13e650469",
   "metadata": {},
   "outputs": [],
   "source": [
    "# which values are 0 we make it close to 0 but not 0\n",
    "y_predicted_new = [max(i,epsilon) for i in y_predicted]"
   ]
  },
  {
   "cell_type": "code",
   "execution_count": 33,
   "id": "c22a70b9-c786-40a5-8028-d7323f5f21e5",
   "metadata": {},
   "outputs": [
    {
     "data": {
      "text/plain": [
       "[1, 1, 1e-15, 1e-15, 1]"
      ]
     },
     "execution_count": 33,
     "metadata": {},
     "output_type": "execute_result"
    }
   ],
   "source": [
    "y_predicted_new"
   ]
  },
  {
   "cell_type": "code",
   "execution_count": 35,
   "id": "29989116-774e-4eec-a186-7e872fa2c701",
   "metadata": {},
   "outputs": [],
   "source": [
    "# which values are 1 we make it close to 1 but not 1\n",
    "y_predicted_new = [min(i,1-epsilon) for i in y_predicted_new]"
   ]
  },
  {
   "cell_type": "code",
   "execution_count": 43,
   "id": "2ddaa66c-30cb-4633-b4da-16656efc309a",
   "metadata": {},
   "outputs": [],
   "source": [
    "y_predicted_new = np.array(y_predicted_new)"
   ]
  },
  {
   "cell_type": "code",
   "execution_count": 45,
   "id": "63d2dfb3-6425-4cb1-8489-c3bcfa1474a8",
   "metadata": {},
   "outputs": [
    {
     "data": {
      "text/plain": [
       "17.2696280766844"
      ]
     },
     "execution_count": 45,
     "metadata": {},
     "output_type": "execute_result"
    }
   ],
   "source": [
    "# Log loss or binary cross entropy\n",
    "-np.mean(y_true*np.log(y_predicted_new)+(1-y_true)*np.log(1-y_predicted_new))"
   ]
  },
  {
   "cell_type": "code",
   "execution_count": 47,
   "id": "cd0511b1-d472-48d1-867a-9f3b7b04b572",
   "metadata": {},
   "outputs": [],
   "source": [
    "def log_loss(y_true, y_predicted):\n",
    "    y_predicted_new = [max(i,epsilon) for i in y_predicted]\n",
    "    y_predicted_new = [min(i,1-epsilon) for i in y_predicted_new]\n",
    "    y_predicted_new = np.array(y_predicted_new)\n",
    "    return -np.mean(y_true*np.log(y_predicted_new)+(1-y_true)*np.log(1-y_predicted_new))\n",
    "    "
   ]
  },
  {
   "cell_type": "code",
   "execution_count": 49,
   "id": "8ffffef4-6e7b-48d3-b781-e446cd8ac178",
   "metadata": {},
   "outputs": [
    {
     "data": {
      "text/plain": [
       "17.2696280766844"
      ]
     },
     "execution_count": 49,
     "metadata": {},
     "output_type": "execute_result"
    }
   ],
   "source": [
    "log_loss(y_true, y_predicted)"
   ]
  },
  {
   "cell_type": "code",
   "execution_count": 51,
   "id": "14a86cff-77a7-47b9-886f-467e0bc74ab9",
   "metadata": {},
   "outputs": [
    {
     "data": {
      "text/plain": [
       "0.366"
      ]
     },
     "execution_count": 51,
     "metadata": {},
     "output_type": "execute_result"
    }
   ],
   "source": [
    "# Mean square error\n",
    "np.mean(np.square(y_predicted-y_true))"
   ]
  },
  {
   "cell_type": "code",
   "execution_count": 53,
   "id": "697bdf27-5edd-4331-87ff-341f89639286",
   "metadata": {},
   "outputs": [],
   "source": [
    "arr = np.array([5, 3, 1])"
   ]
  },
  {
   "cell_type": "code",
   "execution_count": 55,
   "id": "df4e9e1f-a540-406c-b7ac-0a013d020672",
   "metadata": {},
   "outputs": [
    {
     "data": {
      "text/plain": [
       "11.666666666666666"
      ]
     },
     "execution_count": 55,
     "metadata": {},
     "output_type": "execute_result"
    }
   ],
   "source": [
    "np.mean(np.square(arr))"
   ]
  },
  {
   "cell_type": "code",
   "execution_count": null,
   "id": "c7c8e866-df75-4e8c-9c22-1f8fa41de7af",
   "metadata": {},
   "outputs": [],
   "source": []
  }
 ],
 "metadata": {
  "kernelspec": {
   "display_name": "Python [conda env:base] *",
   "language": "python",
   "name": "conda-base-py"
  },
  "language_info": {
   "codemirror_mode": {
    "name": "ipython",
    "version": 3
   },
   "file_extension": ".py",
   "mimetype": "text/x-python",
   "name": "python",
   "nbconvert_exporter": "python",
   "pygments_lexer": "ipython3",
   "version": "3.12.7"
  }
 },
 "nbformat": 4,
 "nbformat_minor": 5
}
