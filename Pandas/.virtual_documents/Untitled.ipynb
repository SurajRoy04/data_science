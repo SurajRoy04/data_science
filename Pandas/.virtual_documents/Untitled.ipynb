import pandas as pd


df = pd.read_csv("data_Actor.csv")


df


df2 = df[df['IMDb']>6.0].copy()


df2


df2.to_csv("data_updated.csv")



