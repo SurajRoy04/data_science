{
 "cells": [
  {
   "cell_type": "code",
   "execution_count": 80,
   "id": "88c016f0-e76f-4ec2-9841-9f382715bae2",
   "metadata": {},
   "outputs": [],
   "source": [
    "bucket = 9"
   ]
  },
  {
   "cell_type": "code",
   "execution_count": 81,
   "id": "c222a08a-515b-44fc-a4c9-55ebd0f8beb7",
   "metadata": {},
   "outputs": [],
   "source": [
    "bucket = \"kishore\""
   ]
  },
  {
   "cell_type": "code",
   "execution_count": 82,
   "id": "42576745-977f-4d2c-bd5d-311bef1a4780",
   "metadata": {},
   "outputs": [
    {
     "data": {
      "text/plain": [
       "str"
      ]
     },
     "execution_count": 82,
     "metadata": {},
     "output_type": "execute_result"
    }
   ],
   "source": [
    "type(bucket)"
   ]
  },
  {
   "cell_type": "code",
   "execution_count": 96,
   "id": "7a54df7d-8772-4de0-ad54-8e8d2df108f7",
   "metadata": {},
   "outputs": [
    {
     "ename": "TypeError",
     "evalue": "'list' object is not callable",
     "output_type": "error",
     "traceback": [
      "\u001b[1;31m---------------------------------------------------------------------------\u001b[0m",
      "\u001b[1;31mTypeError\u001b[0m                                 Traceback (most recent call last)",
      "Cell \u001b[1;32mIn[96], line 2\u001b[0m\n\u001b[0;32m      1\u001b[0m numbers \u001b[38;5;241m=\u001b[39m [\u001b[38;5;241m1\u001b[39m,\u001b[38;5;241m1\u001b[39m,\u001b[38;5;241m3\u001b[39m,\u001b[38;5;241m2\u001b[39m,\u001b[38;5;241m5\u001b[39m,\u001b[38;5;241m6\u001b[39m]\n\u001b[1;32m----> 2\u001b[0m new_list \u001b[38;5;241m=\u001b[39m \u001b[38;5;28mlist\u001b[39m(\u001b[38;5;28mmap\u001b[39m(\u001b[38;5;28;01mlambda\u001b[39;00m x:x\u001b[38;5;241m*\u001b[39m\u001b[38;5;241m*\u001b[39m\u001b[38;5;241m2\u001b[39m ,numbers))\n",
      "\u001b[1;31mTypeError\u001b[0m: 'list' object is not callable"
     ]
    }
   ],
   "source": [
    "numbers = [1,1,3,2,5,6]\n",
    "new_list = list(map(lambda x:x**2 ,numbers))"
   ]
  },
  {
   "cell_type": "code",
   "execution_count": 84,
   "id": "8a95bd54-f868-4e32-a221-a74b7e118ab6",
   "metadata": {},
   "outputs": [],
   "source": [
    "tuple = (1,1,3,2,6,5)"
   ]
  },
  {
   "cell_type": "code",
   "execution_count": 85,
   "id": "39abaca0-a610-462e-a80c-97d15a82e9b1",
   "metadata": {},
   "outputs": [
    {
     "data": {
      "text/plain": [
       "(1, 1, 3, 2, 6, 5)"
      ]
     },
     "execution_count": 85,
     "metadata": {},
     "output_type": "execute_result"
    }
   ],
   "source": [
    "tuple"
   ]
  },
  {
   "cell_type": "code",
   "execution_count": 86,
   "id": "f30b7956-cc8e-401f-94f7-79b3769bf7b8",
   "metadata": {},
   "outputs": [],
   "source": [
    "bool = True"
   ]
  },
  {
   "cell_type": "code",
   "execution_count": 87,
   "id": "566f6789-5129-44b2-9fc7-6d3d6e8661f3",
   "metadata": {},
   "outputs": [
    {
     "data": {
      "text/plain": [
       "True"
      ]
     },
     "execution_count": 87,
     "metadata": {},
     "output_type": "execute_result"
    }
   ],
   "source": [
    "bool "
   ]
  },
  {
   "cell_type": "code",
   "execution_count": 88,
   "id": "75401c7b-7940-440d-b640-febe04466d95",
   "metadata": {},
   "outputs": [],
   "source": [
    "student = {\n",
    "    \"student1\":{\n",
    "        \"name\" : \"Suraj_Roy\",\n",
    "        \"age\"  : 25,\n",
    "        \"grade\": \"A\"\n",
    "    },\n",
    "    \"student2\":{\n",
    "        \"name\" : \"Prashant\",\n",
    "        \"age\"  : 22,\n",
    "        \"grade\": \"B\",\n",
    "    }\n",
    "    \n",
    "}"
   ]
  },
  {
   "cell_type": "code",
   "execution_count": 89,
   "id": "d9f54b83-6baf-46b8-904e-47f63005d0c2",
   "metadata": {},
   "outputs": [
    {
     "data": {
      "text/plain": [
       "'Suraj_Roy'"
      ]
     },
     "execution_count": 89,
     "metadata": {},
     "output_type": "execute_result"
    }
   ],
   "source": [
    "student[\"student1\"][\"name\"]"
   ]
  },
  {
   "cell_type": "code",
   "execution_count": 90,
   "id": "8f933a3f-1e7e-4546-8f61-e53dcec6c9e3",
   "metadata": {},
   "outputs": [],
   "source": [
    "# Creating set using list\n",
    "\n",
    "sett = set([1,2,1,3,5,3,4,5])"
   ]
  },
  {
   "cell_type": "code",
   "execution_count": 91,
   "id": "f75207e0-29cd-40af-8546-3f60215739ce",
   "metadata": {},
   "outputs": [
    {
     "data": {
      "text/plain": [
       "1"
      ]
     },
     "execution_count": 91,
     "metadata": {},
     "output_type": "execute_result"
    }
   ],
   "source": [
    "sett.pop()"
   ]
  },
  {
   "cell_type": "code",
   "execution_count": 92,
   "id": "c0afcbd7-d8df-436f-870b-1407ce4fef73",
   "metadata": {},
   "outputs": [
    {
     "data": {
      "text/plain": [
       "{2, 3, 4, 5}"
      ]
     },
     "execution_count": 92,
     "metadata": {},
     "output_type": "execute_result"
    }
   ],
   "source": [
    "sett"
   ]
  },
  {
   "cell_type": "code",
   "execution_count": 93,
   "id": "b3b59a7e-ab1c-47ed-9557-ce934493ccb7",
   "metadata": {},
   "outputs": [
    {
     "data": {
      "text/plain": [
       "2"
      ]
     },
     "execution_count": 93,
     "metadata": {},
     "output_type": "execute_result"
    }
   ],
   "source": [
    "sett.pop()"
   ]
  },
  {
   "cell_type": "code",
   "execution_count": 94,
   "id": "92472b08-4a3a-49b8-9717-5f5911323a20",
   "metadata": {},
   "outputs": [
    {
     "name": "stdout",
     "output_type": "stream",
     "text": [
      "{1, 2}\n"
     ]
    }
   ],
   "source": [
    "set1 = {1, 2, 3, 4}\n",
    "set2 = {3, 4, 5, 6}\n",
    "\n",
    "print(set1-set2)"
   ]
  },
  {
   "cell_type": "code",
   "execution_count": 95,
   "id": "842d9a39-82d1-404c-a8ce-f2d9cf1657c1",
   "metadata": {},
   "outputs": [
    {
     "ename": "TypeError",
     "evalue": "'list' object is not callable",
     "output_type": "error",
     "traceback": [
      "\u001b[1;31m---------------------------------------------------------------------------\u001b[0m",
      "\u001b[1;31mTypeError\u001b[0m                                 Traceback (most recent call last)",
      "Cell \u001b[1;32mIn[95], line 1\u001b[0m\n\u001b[1;32m----> 1\u001b[0m new_list \u001b[38;5;241m=\u001b[39m \u001b[38;5;28mlist\u001b[39m(\u001b[38;5;28mmap\u001b[39m(\u001b[38;5;28;01mlambda\u001b[39;00m x:x\u001b[38;5;241m*\u001b[39m\u001b[38;5;241m*\u001b[39m\u001b[38;5;241m2\u001b[39m ,numbers))\n",
      "\u001b[1;31mTypeError\u001b[0m: 'list' object is not callable"
     ]
    }
   ],
   "source": [
    "new_list = list(map(lambda x:x**2 ,numbers))"
   ]
  },
  {
   "cell_type": "code",
   "execution_count": 110,
   "id": "226bba9f-d310-46f6-86da-d237c8e1c9b7",
   "metadata": {},
   "outputs": [
    {
     "name": "stdout",
     "output_type": "stream",
     "text": [
      "my name is suraj\n",
      "roy\n",
      "my name is suraj\n",
      "\n"
     ]
    }
   ],
   "source": [
    "file = open(\"new.txt\",\"r\")\n",
    "line = file.readline() \n",
    "file.close()\n",
    "file = open(\"new.txt\",\"r\")\n",
    "content = file.read()\n",
    "print(content)\n",
    "print(line)\n",
    "file.close()"
   ]
  },
  {
   "cell_type": "code",
   "execution_count": 112,
   "id": "cf5fe615-e5e6-4e5f-af46-b38dbbbadf85",
   "metadata": {},
   "outputs": [
    {
     "name": "stdout",
     "output_type": "stream",
     "text": [
      "my name is suraj\n",
      "roy\n",
      "my name is suraj\n",
      "\n"
     ]
    }
   ],
   "source": [
    "with open(\"new.txt\",\"r\") as file:\n",
    "    line = file.readline() \n",
    "    \n",
    "file = open(\"new.txt\",\"r\")\n",
    "content = file.read()\n",
    "print(content)\n",
    "print(line)\n",
    "file.close()"
   ]
  },
  {
   "cell_type": "code",
   "execution_count": 114,
   "id": "fbd71507-79eb-4a77-966c-cba9ab19f592",
   "metadata": {},
   "outputs": [],
   "source": [
    "import json"
   ]
  },
  {
   "cell_type": "code",
   "execution_count": 116,
   "id": "453daba0-4df9-4eed-8e1e-31a6114bc971",
   "metadata": {},
   "outputs": [],
   "source": [
    "json_string = json.dumps(student)"
   ]
  },
  {
   "cell_type": "code",
   "execution_count": 118,
   "id": "9772e703-90f0-4ad7-9522-0a16dfdad86c",
   "metadata": {},
   "outputs": [
    {
     "name": "stdout",
     "output_type": "stream",
     "text": [
      "{\"student1\": {\"name\": \"Suraj_Roy\", \"age\": 25, \"grade\": \"A\"}, \"student2\": {\"name\": \"Prashant\", \"age\": 22, \"grade\": \"B\"}}\n"
     ]
    }
   ],
   "source": [
    "print(json_string)"
   ]
  },
  {
   "cell_type": "code",
   "execution_count": 120,
   "id": "620b38ad-d08d-4dec-ad76-a641dd1850e6",
   "metadata": {},
   "outputs": [],
   "source": [
    "evens = [x for x in range(10) if x%2 == 0]"
   ]
  },
  {
   "cell_type": "code",
   "execution_count": 122,
   "id": "736747a6-e648-4fda-8e4e-4977e62afb02",
   "metadata": {},
   "outputs": [
    {
     "data": {
      "text/plain": [
       "[0, 2, 4, 6, 8]"
      ]
     },
     "execution_count": 122,
     "metadata": {},
     "output_type": "execute_result"
    }
   ],
   "source": [
    "evens"
   ]
  },
  {
   "cell_type": "code",
   "execution_count": 124,
   "id": "24eca8a5-de1e-475b-ac43-56898d55ba7b",
   "metadata": {},
   "outputs": [],
   "source": [
    "pairs = [(x,y) for x in range(2) for y in range(3)]"
   ]
  },
  {
   "cell_type": "code",
   "execution_count": 126,
   "id": "6e6a1ed2-9dc7-4bd6-b552-9be4c65772ae",
   "metadata": {},
   "outputs": [
    {
     "name": "stdout",
     "output_type": "stream",
     "text": [
      "[(0, 0), (0, 1), (0, 2), (1, 0), (1, 1), (1, 2)]\n"
     ]
    }
   ],
   "source": [
    "print(pairs)"
   ]
  },
  {
   "cell_type": "code",
   "execution_count": null,
   "id": "08923a49-054d-468f-b665-18cb1d1ae24f",
   "metadata": {},
   "outputs": [],
   "source": []
  }
 ],
 "metadata": {
  "kernelspec": {
   "display_name": "Python [conda env:base] *",
   "language": "python",
   "name": "conda-base-py"
  },
  "language_info": {
   "codemirror_mode": {
    "name": "ipython",
    "version": 3
   },
   "file_extension": ".py",
   "mimetype": "text/x-python",
   "name": "python",
   "nbconvert_exporter": "python",
   "pygments_lexer": "ipython3",
   "version": "3.12.7"
  }
 },
 "nbformat": 4,
 "nbformat_minor": 5
}
