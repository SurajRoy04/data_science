bucket = 9


bucket = "kishore"


type(bucket)


numbers = [1,1,3,2,5,6]
new_list = list(map(lambda x:x**2 ,numbers))


tuple = (1,1,3,2,6,5)


tuple


bool = True


bool 


student = {
    "student1":{
        "name" : "Suraj_Roy",
        "age"  : 25,
        "grade": "A"
    },
    "student2":{
        "name" : "Prashant",
        "age"  : 22,
        "grade": "B",
    }
    
}


student["student1"]["name"]


# Creating set using list

sett = set([1,2,1,3,5,3,4,5])


sett.pop()


sett


sett.pop()


set1 = {1, 2, 3, 4}
set2 = {3, 4, 5, 6}

print(set1-set2)


new_list = list(map(lambda x:x**2 ,numbers))


file = open("new.txt","r")
line = file.readline() 
file.close()
file = open("new.txt","r")
content = file.read()
print(content)
print(line)
file.close()


with open("new.txt","r") as file:
    line = file.readline() 
    
file = open("new.txt","r")
content = file.read()
print(content)
print(line)
file.close()


import json


json_string = json.dumps(student)


print(json_string)


evens = [x for x in range(10) if x%2 == 0]


evens


pairs = [(x,y) for x in range(2) for y in range(3)]


print(pairs)



