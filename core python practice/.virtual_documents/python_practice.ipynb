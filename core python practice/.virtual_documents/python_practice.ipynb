name = "Sahishnuta"


name


age = 25


is_student = True


sahishnuta = [1,2,3,4,5]


sahishnuta[3]


suraj = (6,7,8,9)


suraj[2]


sahishnuta[3]=112


sahishnuta


suraj[1]=19


couple = {
    "best_couple":{"sahishnuta":"suraj"},
    "worst_couple":{"Kamalika":"Kuldeep"}
}


couple["best_couple"]


couple["worst_couple"]


print(f"Good couple is {couple["best_couple"]} and bad is {couple["worst_couple"]}")


a = 10


s = str(a)


s


lst = list(name)


lst


type(lst)


multi_line_str = """My 
name
is
suraj
roy"""


multi_line_str


str = "   my name is suraj roy   "


str.lower()


str.upper()


str.strip


str.strip()


str.replace("suraj","sahishnuta")


str.split()


str.join(list)


str.find("suraj")


str.count("suraj")


str.startswith("   ")


str.isalpha()


"suraj".isalpha()


a = 5//2


a


a = 17//13


a


2**2


x = False
y = True

not x

#x and y


a = 2


a**=2


a


x is y


x is not y


name = input("Enter Your name")


name


num = int(input("enter a number"))


num


import pandas as pd


data = {'Name':['Alice','Bob','Charlie'],'Score':[85,40,75]}



df = pd.DataFrame(data)


df


df['Result']=df['Score'].apply(lambda x:'Pass' if x>= 50 else 'Fail')


df


df['Character']=df['Score'].apply(lambda y:'Good' if y>50 else 'Average')


df


point = (0,0)

match point:
    case(0,0):
        print("Origin")
    case(x, 0):
        print(f"X-Axis at {x}")
    case(0, y):
        print(f"y-Axis at {y}")
    case(x, y):
        print(f"Point at ({x},{y})")


numbers = [1,1,3,2,5,6]
new_list = list(map(lambda x:x**2 ,numbers))


new_list



