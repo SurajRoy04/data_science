{
 "cells": [
  {
   "cell_type": "code",
   "execution_count": 1,
   "id": "fa1593c3-7669-48ab-af34-c4ccc105fd81",
   "metadata": {},
   "outputs": [],
   "source": [
    "name = \"Sahishnuta\""
   ]
  },
  {
   "cell_type": "code",
   "execution_count": 3,
   "id": "cbf36f77-ba9e-47fd-b49b-2786648776ee",
   "metadata": {},
   "outputs": [
    {
     "data": {
      "text/plain": [
       "'Sahishnuta'"
      ]
     },
     "execution_count": 3,
     "metadata": {},
     "output_type": "execute_result"
    }
   ],
   "source": [
    "name"
   ]
  },
  {
   "cell_type": "code",
   "execution_count": 5,
   "id": "919dc14c-a6a7-4100-add2-04b78cfdf9af",
   "metadata": {},
   "outputs": [],
   "source": [
    "age = 25"
   ]
  },
  {
   "cell_type": "code",
   "execution_count": 7,
   "id": "da66d10d-cb2f-4167-988d-39eaff2b3673",
   "metadata": {},
   "outputs": [],
   "source": [
    "is_student = True"
   ]
  },
  {
   "cell_type": "code",
   "execution_count": 9,
   "id": "fa3746e3-b991-45b8-9a31-7bbb869af22e",
   "metadata": {},
   "outputs": [],
   "source": [
    "sahishnuta = [1,2,3,4,5]"
   ]
  },
  {
   "cell_type": "code",
   "execution_count": 11,
   "id": "3828d71c-7918-4fa0-894c-3baf1bb01db2",
   "metadata": {},
   "outputs": [
    {
     "data": {
      "text/plain": [
       "4"
      ]
     },
     "execution_count": 11,
     "metadata": {},
     "output_type": "execute_result"
    }
   ],
   "source": [
    "sahishnuta[3]"
   ]
  },
  {
   "cell_type": "code",
   "execution_count": 13,
   "id": "8bc4fcab-e325-4a38-8fb2-cdc442206353",
   "metadata": {},
   "outputs": [],
   "source": [
    "suraj = (6,7,8,9)"
   ]
  },
  {
   "cell_type": "code",
   "execution_count": 15,
   "id": "8393fd82-c173-457f-842b-589c51d56ad0",
   "metadata": {},
   "outputs": [
    {
     "data": {
      "text/plain": [
       "8"
      ]
     },
     "execution_count": 15,
     "metadata": {},
     "output_type": "execute_result"
    }
   ],
   "source": [
    "suraj[2]"
   ]
  },
  {
   "cell_type": "code",
   "execution_count": 17,
   "id": "d0291d06-17b7-4894-8edd-0e6f36dcd1cf",
   "metadata": {},
   "outputs": [],
   "source": [
    "sahishnuta[3]=112"
   ]
  },
  {
   "cell_type": "code",
   "execution_count": 19,
   "id": "830e956f-ae25-469a-85bd-298e7691c496",
   "metadata": {},
   "outputs": [
    {
     "data": {
      "text/plain": [
       "[1, 2, 3, 112, 5]"
      ]
     },
     "execution_count": 19,
     "metadata": {},
     "output_type": "execute_result"
    }
   ],
   "source": [
    "sahishnuta"
   ]
  },
  {
   "cell_type": "code",
   "execution_count": 21,
   "id": "fe02220a-fcf3-4d05-8105-1ede2ab4a3da",
   "metadata": {},
   "outputs": [
    {
     "ename": "TypeError",
     "evalue": "'tuple' object does not support item assignment",
     "output_type": "error",
     "traceback": [
      "\u001b[1;31m---------------------------------------------------------------------------\u001b[0m",
      "\u001b[1;31mTypeError\u001b[0m                                 Traceback (most recent call last)",
      "Cell \u001b[1;32mIn[21], line 1\u001b[0m\n\u001b[1;32m----> 1\u001b[0m suraj[\u001b[38;5;241m1\u001b[39m]\u001b[38;5;241m=\u001b[39m\u001b[38;5;241m19\u001b[39m\n",
      "\u001b[1;31mTypeError\u001b[0m: 'tuple' object does not support item assignment"
     ]
    }
   ],
   "source": [
    "suraj[1]=19"
   ]
  },
  {
   "cell_type": "code",
   "execution_count": 27,
   "id": "e608ce3e-7b39-4b43-a405-9b57fff838ea",
   "metadata": {},
   "outputs": [],
   "source": [
    "couple = {\n",
    "    \"best_couple\":{\"sahishnuta\":\"suraj\"},\n",
    "    \"worst_couple\":{\"Kamalika\":\"Kuldeep\"}\n",
    "}"
   ]
  },
  {
   "cell_type": "code",
   "execution_count": 31,
   "id": "b957e7c3-be4a-4537-baf5-296ac45dcb15",
   "metadata": {},
   "outputs": [
    {
     "data": {
      "text/plain": [
       "{'sahishnuta': 'suraj'}"
      ]
     },
     "execution_count": 31,
     "metadata": {},
     "output_type": "execute_result"
    }
   ],
   "source": [
    "couple[\"best_couple\"]"
   ]
  },
  {
   "cell_type": "code",
   "execution_count": 34,
   "id": "c5b02e5f-08d2-4300-ad09-3e821c20453d",
   "metadata": {},
   "outputs": [
    {
     "data": {
      "text/plain": [
       "{'Kamalika': 'Kuldeep'}"
      ]
     },
     "execution_count": 34,
     "metadata": {},
     "output_type": "execute_result"
    }
   ],
   "source": [
    "couple[\"worst_couple\"]"
   ]
  },
  {
   "cell_type": "code",
   "execution_count": 36,
   "id": "32d3642f-9b88-47a1-8130-4ff7603fa98a",
   "metadata": {},
   "outputs": [
    {
     "name": "stdout",
     "output_type": "stream",
     "text": [
      "Good couple is {'sahishnuta': 'suraj'} and bad is {'Kamalika': 'Kuldeep'}\n"
     ]
    }
   ],
   "source": [
    "print(f\"Good couple is {couple[\"best_couple\"]} and bad is {couple[\"worst_couple\"]}\")"
   ]
  },
  {
   "cell_type": "code",
   "execution_count": 38,
   "id": "ad151466-a6a4-49cb-a34d-113e09539f10",
   "metadata": {},
   "outputs": [],
   "source": [
    "a = 10"
   ]
  },
  {
   "cell_type": "code",
   "execution_count": 40,
   "id": "fa92c5d4-d72b-49a5-8f57-4a9842df7c7e",
   "metadata": {},
   "outputs": [],
   "source": [
    "s = str(a)"
   ]
  },
  {
   "cell_type": "code",
   "execution_count": 42,
   "id": "53c9a811-7ff5-4eb2-9cf2-79e954494048",
   "metadata": {},
   "outputs": [
    {
     "data": {
      "text/plain": [
       "'10'"
      ]
     },
     "execution_count": 42,
     "metadata": {},
     "output_type": "execute_result"
    }
   ],
   "source": [
    "s"
   ]
  },
  {
   "cell_type": "code",
   "execution_count": 44,
   "id": "06e9ded3-76b2-407e-90bc-f03dd4b20575",
   "metadata": {},
   "outputs": [],
   "source": [
    "lst = list(name)"
   ]
  },
  {
   "cell_type": "code",
   "execution_count": 46,
   "id": "f9184983-55d7-4330-b769-5d0954c39fb0",
   "metadata": {},
   "outputs": [
    {
     "data": {
      "text/plain": [
       "['S', 'a', 'h', 'i', 's', 'h', 'n', 'u', 't', 'a']"
      ]
     },
     "execution_count": 46,
     "metadata": {},
     "output_type": "execute_result"
    }
   ],
   "source": [
    "lst"
   ]
  },
  {
   "cell_type": "code",
   "execution_count": 48,
   "id": "3bbab756-52b9-4eb1-a935-1ff4ee6167e8",
   "metadata": {},
   "outputs": [
    {
     "data": {
      "text/plain": [
       "list"
      ]
     },
     "execution_count": 48,
     "metadata": {},
     "output_type": "execute_result"
    }
   ],
   "source": [
    "type(lst)"
   ]
  },
  {
   "cell_type": "code",
   "execution_count": 50,
   "id": "417899c3-c9e6-4afe-b38d-8e3f717e9ecf",
   "metadata": {},
   "outputs": [],
   "source": [
    "multi_line_str = \"\"\"My \n",
    "name\n",
    "is\n",
    "suraj\n",
    "roy\"\"\""
   ]
  },
  {
   "cell_type": "code",
   "execution_count": 52,
   "id": "36aecf54-c18c-487f-b8dd-aa6b6716a042",
   "metadata": {},
   "outputs": [
    {
     "data": {
      "text/plain": [
       "'My \\nname\\nis\\nsuraj\\nroy'"
      ]
     },
     "execution_count": 52,
     "metadata": {},
     "output_type": "execute_result"
    }
   ],
   "source": [
    "multi_line_str"
   ]
  },
  {
   "cell_type": "code",
   "execution_count": 54,
   "id": "74b60efe-6ef2-4981-9272-20a7f0c02f2a",
   "metadata": {},
   "outputs": [],
   "source": [
    "str = \"   my name is suraj roy   \""
   ]
  },
  {
   "cell_type": "code",
   "execution_count": 56,
   "id": "b4f0145b-e360-448d-a0fa-d2c66a8f0499",
   "metadata": {},
   "outputs": [
    {
     "data": {
      "text/plain": [
       "'   my name is suraj roy   '"
      ]
     },
     "execution_count": 56,
     "metadata": {},
     "output_type": "execute_result"
    }
   ],
   "source": [
    "str.lower()"
   ]
  },
  {
   "cell_type": "code",
   "execution_count": 58,
   "id": "bc723b56-55e2-461a-84dd-d78033992404",
   "metadata": {},
   "outputs": [
    {
     "data": {
      "text/plain": [
       "'   MY NAME IS SURAJ ROY   '"
      ]
     },
     "execution_count": 58,
     "metadata": {},
     "output_type": "execute_result"
    }
   ],
   "source": [
    "str.upper()"
   ]
  },
  {
   "cell_type": "code",
   "execution_count": 60,
   "id": "d39fa293-3438-4395-a2ba-8d56cfc8f908",
   "metadata": {},
   "outputs": [
    {
     "data": {
      "text/plain": [
       "<function str.strip(chars=None, /)>"
      ]
     },
     "execution_count": 60,
     "metadata": {},
     "output_type": "execute_result"
    }
   ],
   "source": [
    "str.strip"
   ]
  },
  {
   "cell_type": "code",
   "execution_count": 62,
   "id": "aab0f7c7-51e3-44ea-a4ca-2c95cbdb535f",
   "metadata": {},
   "outputs": [
    {
     "data": {
      "text/plain": [
       "'my name is suraj roy'"
      ]
     },
     "execution_count": 62,
     "metadata": {},
     "output_type": "execute_result"
    }
   ],
   "source": [
    "str.strip()"
   ]
  },
  {
   "cell_type": "code",
   "execution_count": 64,
   "id": "26fbb96d-0753-4381-b8bb-fd5aabb74b06",
   "metadata": {},
   "outputs": [
    {
     "data": {
      "text/plain": [
       "'   my name is sahishnuta roy   '"
      ]
     },
     "execution_count": 64,
     "metadata": {},
     "output_type": "execute_result"
    }
   ],
   "source": [
    "str.replace(\"suraj\",\"sahishnuta\")"
   ]
  },
  {
   "cell_type": "code",
   "execution_count": 66,
   "id": "f1d65c7a-3ded-48af-b031-072275cb995d",
   "metadata": {},
   "outputs": [
    {
     "data": {
      "text/plain": [
       "['my', 'name', 'is', 'suraj', 'roy']"
      ]
     },
     "execution_count": 66,
     "metadata": {},
     "output_type": "execute_result"
    }
   ],
   "source": [
    "str.split()"
   ]
  },
  {
   "cell_type": "code",
   "execution_count": 70,
   "id": "0bff029a-9845-43aa-a59f-16c775077b1d",
   "metadata": {},
   "outputs": [
    {
     "ename": "TypeError",
     "evalue": "can only join an iterable",
     "output_type": "error",
     "traceback": [
      "\u001b[1;31m---------------------------------------------------------------------------\u001b[0m",
      "\u001b[1;31mTypeError\u001b[0m                                 Traceback (most recent call last)",
      "Cell \u001b[1;32mIn[70], line 1\u001b[0m\n\u001b[1;32m----> 1\u001b[0m \u001b[38;5;28mstr\u001b[39m\u001b[38;5;241m.\u001b[39mjoin(\u001b[38;5;28mlist\u001b[39m)\n",
      "\u001b[1;31mTypeError\u001b[0m: can only join an iterable"
     ]
    }
   ],
   "source": [
    "str.join(list)"
   ]
  },
  {
   "cell_type": "code",
   "execution_count": 72,
   "id": "24a85056-593e-4c73-a73b-35d1741881c6",
   "metadata": {},
   "outputs": [
    {
     "data": {
      "text/plain": [
       "14"
      ]
     },
     "execution_count": 72,
     "metadata": {},
     "output_type": "execute_result"
    }
   ],
   "source": [
    "str.find(\"suraj\")"
   ]
  },
  {
   "cell_type": "code",
   "execution_count": 74,
   "id": "f113f37a-d622-42ec-a932-5d21c091a12b",
   "metadata": {},
   "outputs": [
    {
     "data": {
      "text/plain": [
       "1"
      ]
     },
     "execution_count": 74,
     "metadata": {},
     "output_type": "execute_result"
    }
   ],
   "source": [
    "str.count(\"suraj\")"
   ]
  },
  {
   "cell_type": "code",
   "execution_count": 78,
   "id": "e556fd03-802e-4494-9865-055fa8ddcebb",
   "metadata": {},
   "outputs": [
    {
     "data": {
      "text/plain": [
       "True"
      ]
     },
     "execution_count": 78,
     "metadata": {},
     "output_type": "execute_result"
    }
   ],
   "source": [
    "str.startswith(\"   \")"
   ]
  },
  {
   "cell_type": "code",
   "execution_count": 80,
   "id": "2a0c1c6d-151b-4057-822f-1e805dedb041",
   "metadata": {},
   "outputs": [
    {
     "data": {
      "text/plain": [
       "False"
      ]
     },
     "execution_count": 80,
     "metadata": {},
     "output_type": "execute_result"
    }
   ],
   "source": [
    "str.isalpha()"
   ]
  },
  {
   "cell_type": "code",
   "execution_count": 82,
   "id": "883c6184-21cb-49e4-be09-e68443281ae6",
   "metadata": {},
   "outputs": [
    {
     "data": {
      "text/plain": [
       "True"
      ]
     },
     "execution_count": 82,
     "metadata": {},
     "output_type": "execute_result"
    }
   ],
   "source": [
    "\"suraj\".isalpha()"
   ]
  },
  {
   "cell_type": "code",
   "execution_count": 84,
   "id": "e0443a28-baab-458c-97b0-4f0c376e9e7a",
   "metadata": {},
   "outputs": [],
   "source": [
    "a = 5//2"
   ]
  },
  {
   "cell_type": "code",
   "execution_count": 86,
   "id": "bb033a1b-4e5e-44c7-be7e-0ad1156e222a",
   "metadata": {},
   "outputs": [
    {
     "data": {
      "text/plain": [
       "2"
      ]
     },
     "execution_count": 86,
     "metadata": {},
     "output_type": "execute_result"
    }
   ],
   "source": [
    "a"
   ]
  },
  {
   "cell_type": "code",
   "execution_count": 88,
   "id": "2a961d52-f243-4b28-8baa-5e9fbccbc096",
   "metadata": {},
   "outputs": [],
   "source": [
    "a = 17//13"
   ]
  },
  {
   "cell_type": "code",
   "execution_count": 90,
   "id": "6266c3dd-2d0d-43cf-92b4-d32889650578",
   "metadata": {},
   "outputs": [
    {
     "data": {
      "text/plain": [
       "1"
      ]
     },
     "execution_count": 90,
     "metadata": {},
     "output_type": "execute_result"
    }
   ],
   "source": [
    "a"
   ]
  },
  {
   "cell_type": "code",
   "execution_count": 92,
   "id": "31e064e2-e6bb-4f05-a884-f29c63e3dfc9",
   "metadata": {},
   "outputs": [
    {
     "data": {
      "text/plain": [
       "4"
      ]
     },
     "execution_count": 92,
     "metadata": {},
     "output_type": "execute_result"
    }
   ],
   "source": [
    "2**2"
   ]
  },
  {
   "cell_type": "code",
   "execution_count": 102,
   "id": "1362d793-e264-4ace-b728-62c4858c22ca",
   "metadata": {},
   "outputs": [
    {
     "data": {
      "text/plain": [
       "True"
      ]
     },
     "execution_count": 102,
     "metadata": {},
     "output_type": "execute_result"
    }
   ],
   "source": [
    "x = False\n",
    "y = True\n",
    "\n",
    "not x\n",
    "\n",
    "#x and y"
   ]
  },
  {
   "cell_type": "code",
   "execution_count": 104,
   "id": "85ee600e-e58a-4392-86d5-f8e4075e8b35",
   "metadata": {},
   "outputs": [],
   "source": [
    "a = 2"
   ]
  },
  {
   "cell_type": "code",
   "execution_count": 106,
   "id": "bfd8891c-81e8-42d1-87e5-6975656898e9",
   "metadata": {},
   "outputs": [],
   "source": [
    "a**=2"
   ]
  },
  {
   "cell_type": "code",
   "execution_count": 108,
   "id": "62d9d044-8f91-42c6-a2f1-7d7497045bd8",
   "metadata": {},
   "outputs": [
    {
     "data": {
      "text/plain": [
       "4"
      ]
     },
     "execution_count": 108,
     "metadata": {},
     "output_type": "execute_result"
    }
   ],
   "source": [
    "a"
   ]
  },
  {
   "cell_type": "code",
   "execution_count": 110,
   "id": "a3e41f74-b2a7-4f9d-b68e-44bc22f58d6d",
   "metadata": {},
   "outputs": [
    {
     "data": {
      "text/plain": [
       "False"
      ]
     },
     "execution_count": 110,
     "metadata": {},
     "output_type": "execute_result"
    }
   ],
   "source": [
    "x is y"
   ]
  },
  {
   "cell_type": "code",
   "execution_count": 112,
   "id": "74cc2bec-a4e3-4a87-b043-91e38260b21d",
   "metadata": {},
   "outputs": [
    {
     "data": {
      "text/plain": [
       "True"
      ]
     },
     "execution_count": 112,
     "metadata": {},
     "output_type": "execute_result"
    }
   ],
   "source": [
    "x is not y"
   ]
  },
  {
   "cell_type": "code",
   "execution_count": 114,
   "id": "6f232846-f5dd-4a77-a12b-3569852299f2",
   "metadata": {},
   "outputs": [
    {
     "name": "stdin",
     "output_type": "stream",
     "text": [
      "Enter Your name Suraj\n"
     ]
    }
   ],
   "source": [
    "name = input(\"Enter Your name\")"
   ]
  },
  {
   "cell_type": "code",
   "execution_count": 118,
   "id": "e8dd60a3-d3a7-402a-a30b-a931f1f1f7e1",
   "metadata": {},
   "outputs": [
    {
     "data": {
      "text/plain": [
       "'Suraj'"
      ]
     },
     "execution_count": 118,
     "metadata": {},
     "output_type": "execute_result"
    }
   ],
   "source": [
    "name"
   ]
  },
  {
   "cell_type": "code",
   "execution_count": 124,
   "id": "6940ed1c-844a-4bd5-b158-398733933a08",
   "metadata": {},
   "outputs": [
    {
     "name": "stdin",
     "output_type": "stream",
     "text": [
      "enter a number 124421\n"
     ]
    }
   ],
   "source": [
    "num = int(input(\"enter a number\"))"
   ]
  },
  {
   "cell_type": "code",
   "execution_count": 126,
   "id": "07f64761-ac15-434c-bb52-0f7de0b8fd3b",
   "metadata": {},
   "outputs": [
    {
     "data": {
      "text/plain": [
       "124421"
      ]
     },
     "execution_count": 126,
     "metadata": {},
     "output_type": "execute_result"
    }
   ],
   "source": [
    "num"
   ]
  },
  {
   "cell_type": "code",
   "execution_count": 128,
   "id": "90e33f54-ea67-40c5-865a-68cfd21ba1ec",
   "metadata": {},
   "outputs": [],
   "source": [
    "import pandas as pd"
   ]
  },
  {
   "cell_type": "code",
   "execution_count": 134,
   "id": "df270c4a-4760-4f12-b28f-1a55444d1b98",
   "metadata": {},
   "outputs": [],
   "source": [
    "data = {'Name':['Alice','Bob','Charlie'],'Score':[85,40,75]}\n"
   ]
  },
  {
   "cell_type": "code",
   "execution_count": 136,
   "id": "4d07e0f7-9a83-44d7-bb5b-b54551106c2e",
   "metadata": {},
   "outputs": [],
   "source": [
    "df = pd.DataFrame(data)"
   ]
  },
  {
   "cell_type": "code",
   "execution_count": 138,
   "id": "c25699fd-2792-416d-9d45-3b59a1be744b",
   "metadata": {},
   "outputs": [
    {
     "data": {
      "text/html": [
       "<div>\n",
       "<style scoped>\n",
       "    .dataframe tbody tr th:only-of-type {\n",
       "        vertical-align: middle;\n",
       "    }\n",
       "\n",
       "    .dataframe tbody tr th {\n",
       "        vertical-align: top;\n",
       "    }\n",
       "\n",
       "    .dataframe thead th {\n",
       "        text-align: right;\n",
       "    }\n",
       "</style>\n",
       "<table border=\"1\" class=\"dataframe\">\n",
       "  <thead>\n",
       "    <tr style=\"text-align: right;\">\n",
       "      <th></th>\n",
       "      <th>Name</th>\n",
       "      <th>Score</th>\n",
       "    </tr>\n",
       "  </thead>\n",
       "  <tbody>\n",
       "    <tr>\n",
       "      <th>0</th>\n",
       "      <td>Alice</td>\n",
       "      <td>85</td>\n",
       "    </tr>\n",
       "    <tr>\n",
       "      <th>1</th>\n",
       "      <td>Bob</td>\n",
       "      <td>40</td>\n",
       "    </tr>\n",
       "    <tr>\n",
       "      <th>2</th>\n",
       "      <td>Charlie</td>\n",
       "      <td>75</td>\n",
       "    </tr>\n",
       "  </tbody>\n",
       "</table>\n",
       "</div>"
      ],
      "text/plain": [
       "      Name  Score\n",
       "0    Alice     85\n",
       "1      Bob     40\n",
       "2  Charlie     75"
      ]
     },
     "execution_count": 138,
     "metadata": {},
     "output_type": "execute_result"
    }
   ],
   "source": [
    "df"
   ]
  },
  {
   "cell_type": "code",
   "execution_count": 140,
   "id": "a5f33fec-b294-4827-94ad-149d185604ed",
   "metadata": {},
   "outputs": [],
   "source": [
    "df['Result']=df['Score'].apply(lambda x:'Pass' if x>= 50 else 'Fail')"
   ]
  },
  {
   "cell_type": "code",
   "execution_count": 142,
   "id": "571ead40-4c28-4bb5-a1dd-c1362bb6358b",
   "metadata": {},
   "outputs": [
    {
     "data": {
      "text/html": [
       "<div>\n",
       "<style scoped>\n",
       "    .dataframe tbody tr th:only-of-type {\n",
       "        vertical-align: middle;\n",
       "    }\n",
       "\n",
       "    .dataframe tbody tr th {\n",
       "        vertical-align: top;\n",
       "    }\n",
       "\n",
       "    .dataframe thead th {\n",
       "        text-align: right;\n",
       "    }\n",
       "</style>\n",
       "<table border=\"1\" class=\"dataframe\">\n",
       "  <thead>\n",
       "    <tr style=\"text-align: right;\">\n",
       "      <th></th>\n",
       "      <th>Name</th>\n",
       "      <th>Score</th>\n",
       "      <th>Result</th>\n",
       "    </tr>\n",
       "  </thead>\n",
       "  <tbody>\n",
       "    <tr>\n",
       "      <th>0</th>\n",
       "      <td>Alice</td>\n",
       "      <td>85</td>\n",
       "      <td>Pass</td>\n",
       "    </tr>\n",
       "    <tr>\n",
       "      <th>1</th>\n",
       "      <td>Bob</td>\n",
       "      <td>40</td>\n",
       "      <td>Fail</td>\n",
       "    </tr>\n",
       "    <tr>\n",
       "      <th>2</th>\n",
       "      <td>Charlie</td>\n",
       "      <td>75</td>\n",
       "      <td>Pass</td>\n",
       "    </tr>\n",
       "  </tbody>\n",
       "</table>\n",
       "</div>"
      ],
      "text/plain": [
       "      Name  Score Result\n",
       "0    Alice     85   Pass\n",
       "1      Bob     40   Fail\n",
       "2  Charlie     75   Pass"
      ]
     },
     "execution_count": 142,
     "metadata": {},
     "output_type": "execute_result"
    }
   ],
   "source": [
    "df"
   ]
  },
  {
   "cell_type": "code",
   "execution_count": 144,
   "id": "e094798c-cb75-4902-9951-9ea2262f6aeb",
   "metadata": {},
   "outputs": [],
   "source": [
    "df['Character']=df['Score'].apply(lambda y:'Good' if y>50 else 'Average')"
   ]
  },
  {
   "cell_type": "code",
   "execution_count": 146,
   "id": "07586174-bc7c-4995-8e10-987ddd9c0a15",
   "metadata": {},
   "outputs": [
    {
     "data": {
      "text/html": [
       "<div>\n",
       "<style scoped>\n",
       "    .dataframe tbody tr th:only-of-type {\n",
       "        vertical-align: middle;\n",
       "    }\n",
       "\n",
       "    .dataframe tbody tr th {\n",
       "        vertical-align: top;\n",
       "    }\n",
       "\n",
       "    .dataframe thead th {\n",
       "        text-align: right;\n",
       "    }\n",
       "</style>\n",
       "<table border=\"1\" class=\"dataframe\">\n",
       "  <thead>\n",
       "    <tr style=\"text-align: right;\">\n",
       "      <th></th>\n",
       "      <th>Name</th>\n",
       "      <th>Score</th>\n",
       "      <th>Result</th>\n",
       "      <th>Character</th>\n",
       "    </tr>\n",
       "  </thead>\n",
       "  <tbody>\n",
       "    <tr>\n",
       "      <th>0</th>\n",
       "      <td>Alice</td>\n",
       "      <td>85</td>\n",
       "      <td>Pass</td>\n",
       "      <td>Good</td>\n",
       "    </tr>\n",
       "    <tr>\n",
       "      <th>1</th>\n",
       "      <td>Bob</td>\n",
       "      <td>40</td>\n",
       "      <td>Fail</td>\n",
       "      <td>Average</td>\n",
       "    </tr>\n",
       "    <tr>\n",
       "      <th>2</th>\n",
       "      <td>Charlie</td>\n",
       "      <td>75</td>\n",
       "      <td>Pass</td>\n",
       "      <td>Good</td>\n",
       "    </tr>\n",
       "  </tbody>\n",
       "</table>\n",
       "</div>"
      ],
      "text/plain": [
       "      Name  Score Result Character\n",
       "0    Alice     85   Pass      Good\n",
       "1      Bob     40   Fail   Average\n",
       "2  Charlie     75   Pass      Good"
      ]
     },
     "execution_count": 146,
     "metadata": {},
     "output_type": "execute_result"
    }
   ],
   "source": [
    "df"
   ]
  },
  {
   "cell_type": "code",
   "execution_count": 154,
   "id": "2a497e5e-3af4-4fb8-9a6d-324ab28cc79a",
   "metadata": {},
   "outputs": [
    {
     "name": "stdout",
     "output_type": "stream",
     "text": [
      "Origin\n"
     ]
    }
   ],
   "source": [
    "point = (0,0)\n",
    "\n",
    "match point:\n",
    "    case(0,0):\n",
    "        print(\"Origin\")\n",
    "    case(x, 0):\n",
    "        print(f\"X-Axis at {x}\")\n",
    "    case(0, y):\n",
    "        print(f\"y-Axis at {y}\")\n",
    "    case(x, y):\n",
    "        print(f\"Point at ({x},{y})\")"
   ]
  },
  {
   "cell_type": "code",
   "execution_count": 2,
   "id": "6a3ab572-e9bb-4717-adc9-763b54c7716b",
   "metadata": {},
   "outputs": [],
   "source": [
    "numbers = [1,1,3,2,5,6]\n",
    "new_list = list(map(lambda x:x**2 ,numbers))"
   ]
  },
  {
   "cell_type": "code",
   "execution_count": 4,
   "id": "4dae3871-f23e-4f25-9099-026bdbb6505b",
   "metadata": {},
   "outputs": [
    {
     "data": {
      "text/plain": [
       "[1, 1, 9, 4, 25, 36]"
      ]
     },
     "execution_count": 4,
     "metadata": {},
     "output_type": "execute_result"
    }
   ],
   "source": [
    "new_list"
   ]
  },
  {
   "cell_type": "code",
   "execution_count": null,
   "id": "15dd43d8-e563-43b8-a8e6-0fa101839218",
   "metadata": {},
   "outputs": [],
   "source": []
  }
 ],
 "metadata": {
  "kernelspec": {
   "display_name": "Python [conda env:base] *",
   "language": "python",
   "name": "conda-base-py"
  },
  "language_info": {
   "codemirror_mode": {
    "name": "ipython",
    "version": 3
   },
   "file_extension": ".py",
   "mimetype": "text/x-python",
   "name": "python",
   "nbconvert_exporter": "python",
   "pygments_lexer": "ipython3",
   "version": "3.12.7"
  }
 },
 "nbformat": 4,
 "nbformat_minor": 5
}
