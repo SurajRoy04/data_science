import matplotlib.pyplot as plt

years = [1990, 1992, 1994, 1996, 1998, 2000, 2003, 2005, 2007, 2010]
runs =  [500, 700, 1100, 1500, 1800, 1200, 1700, 1300, 900, 1500]


plt.bar(years,runs)
plt.xlabel("Year")
plt.ylabel("Runs Scored")
plt.title("Sachin's score by years")


import numpy as np

sachin = [500, 700, 1100, 1500, 1800, 1200, 1700, 1300, 900, 1500]
sehwag = [0, 200, 900, 1400, 1600, 1800, 1500, 1100, 800, 0]
kohli  = [0, 0, 500, 800, 1100, 1300, 1500, 1800, 1900, 2100]

x = np.arange(len(years))  # index positions
width = 0.25


plt.bar(x - width, sachin, width=width, label="Sachin")
plt.bar(x, sehwag, width=width, label="Sehwag")
plt.bar(x + width, kohli, width=width, label="Kohli")
 
plt.xlabel("Year")
plt.ylabel("Runs")
plt.title("Run Comparison")
plt.xticks(x, years)  # Show actual year instead of 0,1,2,...
plt.legend()
plt.tight_layout()
plt.show()


players = ["Sachin", "Sehwag", "Kohli", "Yuvraj"]
runs_5yrs = [500+700+1100+1500+1800, 0+200+900+1400+1600, 0+0+500+800+1100, 300+600+800+1100+900] 

plt.barh(players, runs_5yrs, color="skyblue")
plt.xlabel("Total Runs in First 5 Years")
plt.title("First 5-Year Performance of Indian Batsmen")
plt.tight_layout()
plt.show()


import matplotlib.pyplot as plt

players = ["Sachin", "Sehwag", "Kohli"]
runs = [1500, 1200, 1800]

plt.bar(players, runs, color="skyblue")

# Add labels on top of bars
for i in range(len(players)):
    plt.text(i, runs[i] + 25, str(runs[i]), ha='center')

plt.ylabel("Runs")
plt.title("Runs Scored by Players")
plt.tight_layout()
plt.show()


#  Exercise Time




years = [2007, 2008, 2009, 2010, 2011, 2012, 2013, 2014, 2015, 2016, 2017, 2018, 2019]

Rohit = [167, 532, 578, 404, 611, 894, 1268, 578, 815, 930, 1293, 1030, 1490]
Virat = [0, 159, 325, 995, 1381, 1026, 1268, 1292, 1385, 1215, 1459, 1202, 2455]
Dhoni = [1103, 1240, 1198, 1089, 1241, 974, 753, 764, 913, 726, 789, 648, 516]


x = np.arange(len(years))


width = 0.32


plt.bar(x - width, Rohit, width=width, label = "Rohit")
plt.bar(x , Virat, width=width, label = "Virat")
plt.bar(x + width, Dhoni, width=width, label = "Dhoni")

plt.xlabel("Years")
plt.ylabel("Runs")
plt.title("Indian Cricket legend run comparison")
plt.xticks(x, years)
plt.legend()
plt.tight_layout()


players = ["Rohit","Virat","Dhoni"]
runs = [167+532+578+404+611 , 0+159+325+995+1381, 1103+1240+1198+1089+1241]


plt.barh(players,runs,color="green")
plt.xlabel("Total Runs in 5 years")
plt.tight_layout()
plt.show()



