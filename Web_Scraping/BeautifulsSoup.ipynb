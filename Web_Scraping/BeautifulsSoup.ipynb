{
 "cells": [
  {
   "cell_type": "code",
   "execution_count": 1,
   "id": "63926f51-03c0-46b7-8042-7ac5be888639",
   "metadata": {},
   "outputs": [
    {
     "name": "stdout",
     "output_type": "stream",
     "text": [
      "Requirement already satisfied: beautifulsoup4 in d:\\apps_download\\lib\\site-packages (4.12.3)\n",
      "Requirement already satisfied: lxml in d:\\apps_download\\lib\\site-packages (5.3.0)\n",
      "Requirement already satisfied: soupsieve>1.2 in d:\\apps_download\\lib\\site-packages (from beautifulsoup4) (2.5)\n",
      "Note: you may need to restart the kernel to use updated packages.\n"
     ]
    }
   ],
   "source": [
    "pip install beautifulsoup4 lxml"
   ]
  },
  {
   "cell_type": "code",
   "execution_count": 3,
   "id": "d4c7eaf2-2753-459a-a902-00734ff61d0a",
   "metadata": {},
   "outputs": [],
   "source": [
    "from bs4 import BeautifulSoup"
   ]
  },
  {
   "cell_type": "code",
   "execution_count": 5,
   "id": "f0ed2b3d-aa25-4594-9247-4d679b79c8ff",
   "metadata": {},
   "outputs": [],
   "source": [
    "with open(\"html_basic/page1.html\")as f:\n",
    "    content = f.read()"
   ]
  },
  {
   "cell_type": "code",
   "execution_count": 9,
   "id": "dc092230-a22f-4829-84a8-0359c4e558f0",
   "metadata": {},
   "outputs": [],
   "source": [
    "soup = BeautifulSoup(content, \"html.parser\")"
   ]
  },
  {
   "cell_type": "code",
   "execution_count": 13,
   "id": "976f3dcf-4be8-40f0-8492-fb47a6d35100",
   "metadata": {},
   "outputs": [],
   "source": [
    "h3s = soup.find_all(\"h3\")"
   ]
  },
  {
   "cell_type": "code",
   "execution_count": 19,
   "id": "a7b4b586-092c-467e-8d9b-c0e12acce5c0",
   "metadata": {},
   "outputs": [],
   "source": [
    "articles = soup.select(\"article.product_pod\")"
   ]
  },
  {
   "cell_type": "code",
   "execution_count": 33,
   "id": "c0c16c01-cdc9-4aba-9f3c-46450e032760",
   "metadata": {},
   "outputs": [
    {
     "name": "stdout",
     "output_type": "stream",
     "text": [
      "[['A Light in the Attic', '51.77', 'Three'], ['Tipping the Velvet', '53.74', 'One'], ['Soumission', '50.10', 'One'], ['Sharp Objects', '47.82', 'Four'], ['Sapiens: A Brief History of Humankind', '54.23', 'Five'], ['The Requiem Red', '22.65', 'One'], ['The Dirty Little Secrets of Getting Your Dream Job', '33.34', 'Four'], ['The Coming Woman: A Novel Based on the Life of the Infamous Feminist, Victoria Woodhull', '17.93', 'Three'], ['The Boys in the Boat: Nine Americans and Their Epic Quest for Gold at the 1936 Berlin Olympics', '22.60', 'Four'], ['The Black Maria', '52.15', 'One'], ['Starving Hearts (Triangular Trade Trilogy, #1)', '13.99', 'Two'], [\"Shakespeare's Sonnets\", '20.66', 'Four'], ['Set Me Free', '17.46', 'Five'], [\"Scott Pilgrim's Precious Little Life (Scott Pilgrim #1)\", '52.29', 'Five'], ['Rip it Up and Start Again', '35.02', 'Five'], ['Our Band Could Be Your Life: Scenes from the American Indie Underground, 1981-1991', '57.25', 'Three'], ['Olio', '23.88', 'One'], ['Mesaerion: The Best Science Fiction Stories 1800-1849', '37.59', 'One'], ['Libertarianism for Beginners', '51.33', 'Two'], [\"It's Only the Himalayas\", '45.17', 'Two']]\n"
     ]
    }
   ],
   "source": [
    "items = []\n",
    "for article in articles:\n",
    "    title = article.find(\"h3\").find(\"a\")[\"title\"]\n",
    "    price = article.select_one(\"p.price_color\").text.split(\"£\")[1]\n",
    "    rating_element = article.select_one(\"p.star-rating\")\n",
    "    rating = rating_element['class'][1]\n",
    "    items.append([title,price,rating])\n",
    "print(items)"
   ]
  },
  {
   "cell_type": "code",
   "execution_count": 35,
   "id": "3b35ea55-4bef-49bb-8240-2ee8ba44af9b",
   "metadata": {},
   "outputs": [],
   "source": [
    "import pandas as pd\n",
    "df = pd.DataFrame(items,columns=[\"Book's_Title\",\"Book's_Price\",\"Book's_rating\"])\n"
   ]
  },
  {
   "cell_type": "code",
   "execution_count": 37,
   "id": "e944a374-ad22-4360-a893-08d90d402dda",
   "metadata": {},
   "outputs": [
    {
     "data": {
      "text/html": [
       "<div>\n",
       "<style scoped>\n",
       "    .dataframe tbody tr th:only-of-type {\n",
       "        vertical-align: middle;\n",
       "    }\n",
       "\n",
       "    .dataframe tbody tr th {\n",
       "        vertical-align: top;\n",
       "    }\n",
       "\n",
       "    .dataframe thead th {\n",
       "        text-align: right;\n",
       "    }\n",
       "</style>\n",
       "<table border=\"1\" class=\"dataframe\">\n",
       "  <thead>\n",
       "    <tr style=\"text-align: right;\">\n",
       "      <th></th>\n",
       "      <th>Book's_Title</th>\n",
       "      <th>Book's_Price</th>\n",
       "      <th>Book's_rating</th>\n",
       "    </tr>\n",
       "  </thead>\n",
       "  <tbody>\n",
       "    <tr>\n",
       "      <th>0</th>\n",
       "      <td>A Light in the Attic</td>\n",
       "      <td>51.77</td>\n",
       "      <td>Three</td>\n",
       "    </tr>\n",
       "    <tr>\n",
       "      <th>1</th>\n",
       "      <td>Tipping the Velvet</td>\n",
       "      <td>53.74</td>\n",
       "      <td>One</td>\n",
       "    </tr>\n",
       "    <tr>\n",
       "      <th>2</th>\n",
       "      <td>Soumission</td>\n",
       "      <td>50.10</td>\n",
       "      <td>One</td>\n",
       "    </tr>\n",
       "    <tr>\n",
       "      <th>3</th>\n",
       "      <td>Sharp Objects</td>\n",
       "      <td>47.82</td>\n",
       "      <td>Four</td>\n",
       "    </tr>\n",
       "    <tr>\n",
       "      <th>4</th>\n",
       "      <td>Sapiens: A Brief History of Humankind</td>\n",
       "      <td>54.23</td>\n",
       "      <td>Five</td>\n",
       "    </tr>\n",
       "    <tr>\n",
       "      <th>5</th>\n",
       "      <td>The Requiem Red</td>\n",
       "      <td>22.65</td>\n",
       "      <td>One</td>\n",
       "    </tr>\n",
       "    <tr>\n",
       "      <th>6</th>\n",
       "      <td>The Dirty Little Secrets of Getting Your Dream...</td>\n",
       "      <td>33.34</td>\n",
       "      <td>Four</td>\n",
       "    </tr>\n",
       "    <tr>\n",
       "      <th>7</th>\n",
       "      <td>The Coming Woman: A Novel Based on the Life of...</td>\n",
       "      <td>17.93</td>\n",
       "      <td>Three</td>\n",
       "    </tr>\n",
       "    <tr>\n",
       "      <th>8</th>\n",
       "      <td>The Boys in the Boat: Nine Americans and Their...</td>\n",
       "      <td>22.60</td>\n",
       "      <td>Four</td>\n",
       "    </tr>\n",
       "    <tr>\n",
       "      <th>9</th>\n",
       "      <td>The Black Maria</td>\n",
       "      <td>52.15</td>\n",
       "      <td>One</td>\n",
       "    </tr>\n",
       "    <tr>\n",
       "      <th>10</th>\n",
       "      <td>Starving Hearts (Triangular Trade Trilogy, #1)</td>\n",
       "      <td>13.99</td>\n",
       "      <td>Two</td>\n",
       "    </tr>\n",
       "    <tr>\n",
       "      <th>11</th>\n",
       "      <td>Shakespeare's Sonnets</td>\n",
       "      <td>20.66</td>\n",
       "      <td>Four</td>\n",
       "    </tr>\n",
       "    <tr>\n",
       "      <th>12</th>\n",
       "      <td>Set Me Free</td>\n",
       "      <td>17.46</td>\n",
       "      <td>Five</td>\n",
       "    </tr>\n",
       "    <tr>\n",
       "      <th>13</th>\n",
       "      <td>Scott Pilgrim's Precious Little Life (Scott Pi...</td>\n",
       "      <td>52.29</td>\n",
       "      <td>Five</td>\n",
       "    </tr>\n",
       "    <tr>\n",
       "      <th>14</th>\n",
       "      <td>Rip it Up and Start Again</td>\n",
       "      <td>35.02</td>\n",
       "      <td>Five</td>\n",
       "    </tr>\n",
       "    <tr>\n",
       "      <th>15</th>\n",
       "      <td>Our Band Could Be Your Life: Scenes from the A...</td>\n",
       "      <td>57.25</td>\n",
       "      <td>Three</td>\n",
       "    </tr>\n",
       "    <tr>\n",
       "      <th>16</th>\n",
       "      <td>Olio</td>\n",
       "      <td>23.88</td>\n",
       "      <td>One</td>\n",
       "    </tr>\n",
       "    <tr>\n",
       "      <th>17</th>\n",
       "      <td>Mesaerion: The Best Science Fiction Stories 18...</td>\n",
       "      <td>37.59</td>\n",
       "      <td>One</td>\n",
       "    </tr>\n",
       "    <tr>\n",
       "      <th>18</th>\n",
       "      <td>Libertarianism for Beginners</td>\n",
       "      <td>51.33</td>\n",
       "      <td>Two</td>\n",
       "    </tr>\n",
       "    <tr>\n",
       "      <th>19</th>\n",
       "      <td>It's Only the Himalayas</td>\n",
       "      <td>45.17</td>\n",
       "      <td>Two</td>\n",
       "    </tr>\n",
       "  </tbody>\n",
       "</table>\n",
       "</div>"
      ],
      "text/plain": [
       "                                         Book's_Title Book's_Price  \\\n",
       "0                                A Light in the Attic        51.77   \n",
       "1                                  Tipping the Velvet        53.74   \n",
       "2                                          Soumission        50.10   \n",
       "3                                       Sharp Objects        47.82   \n",
       "4               Sapiens: A Brief History of Humankind        54.23   \n",
       "5                                     The Requiem Red        22.65   \n",
       "6   The Dirty Little Secrets of Getting Your Dream...        33.34   \n",
       "7   The Coming Woman: A Novel Based on the Life of...        17.93   \n",
       "8   The Boys in the Boat: Nine Americans and Their...        22.60   \n",
       "9                                     The Black Maria        52.15   \n",
       "10     Starving Hearts (Triangular Trade Trilogy, #1)        13.99   \n",
       "11                              Shakespeare's Sonnets        20.66   \n",
       "12                                        Set Me Free        17.46   \n",
       "13  Scott Pilgrim's Precious Little Life (Scott Pi...        52.29   \n",
       "14                          Rip it Up and Start Again        35.02   \n",
       "15  Our Band Could Be Your Life: Scenes from the A...        57.25   \n",
       "16                                               Olio        23.88   \n",
       "17  Mesaerion: The Best Science Fiction Stories 18...        37.59   \n",
       "18                       Libertarianism for Beginners        51.33   \n",
       "19                            It's Only the Himalayas        45.17   \n",
       "\n",
       "   Book's_rating  \n",
       "0          Three  \n",
       "1            One  \n",
       "2            One  \n",
       "3           Four  \n",
       "4           Five  \n",
       "5            One  \n",
       "6           Four  \n",
       "7          Three  \n",
       "8           Four  \n",
       "9            One  \n",
       "10           Two  \n",
       "11          Four  \n",
       "12          Five  \n",
       "13          Five  \n",
       "14          Five  \n",
       "15         Three  \n",
       "16           One  \n",
       "17           One  \n",
       "18           Two  \n",
       "19           Two  "
      ]
     },
     "execution_count": 37,
     "metadata": {},
     "output_type": "execute_result"
    }
   ],
   "source": [
    "df"
   ]
  },
  {
   "cell_type": "code",
   "execution_count": 39,
   "id": "d81644ee-5a64-4d90-9b83-055255f87cab",
   "metadata": {},
   "outputs": [],
   "source": [
    "df.to_csv(\"Book's_data.csv\",index=False)"
   ]
  },
  {
   "cell_type": "code",
   "execution_count": null,
   "id": "d43d82e8-6ed1-482a-8e83-8d6f4ecb3d18",
   "metadata": {},
   "outputs": [],
   "source": []
  }
 ],
 "metadata": {
  "kernelspec": {
   "display_name": "Python [conda env:base] *",
   "language": "python",
   "name": "conda-base-py"
  },
  "language_info": {
   "codemirror_mode": {
    "name": "ipython",
    "version": 3
   },
   "file_extension": ".py",
   "mimetype": "text/x-python",
   "name": "python",
   "nbconvert_exporter": "python",
   "pygments_lexer": "ipython3",
   "version": "3.12.7"
  }
 },
 "nbformat": 4,
 "nbformat_minor": 5
}
