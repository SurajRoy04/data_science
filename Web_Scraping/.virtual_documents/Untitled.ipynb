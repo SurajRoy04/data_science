pip install beautifulsoup4 lxml


from bs4 import BeautifulSoup


with open("html_basic/page1.html")as f:
    content = f.read()


soup = BeautifulSoup(content, "html.parser")


h3s = soup.find_all("h3")


articles = soup.select("article.product_pod")


items = []
for article in articles:
    title = article.find("h3").find("a")["title"]
    price = article.select_one("p.price_color").text.split("£")[1]
    rating_element = article.select_one("p.star-rating")
    rating = rating_element['class'][1]
    items.append([title,price,rating])
print(items)


import pandas as pd
df = pd.DataFrame(items,columns=["Book's_Title","Book's_Price","Book's_rating"])



df


df.to_csv("Book's_data.csv",index=False)



