import numpy as np
import pandas as pd


movies = pd.read_csv("movies_data.csv")
credits = pd.read_csv("credits_data.csv")


movies.head(1)['keywords'].values





movies = movies.merge(credits,on='title')



movies.head()


# Columns must be there

# Genres
# id
# KeyWord
# Title 
# Overview
# Cast
# Crew

movies = movies[['movie_id','title','overview','genres','keywords','cast','crew']]


movies


# Removing Missing Data

movies.isnull().sum()


movies.dropna(inplace = True)


movies.isnull().sum()


#movies.duplicated().sum()
movies_copy = movies.copy()


movies.iloc[0].genres


def convert(obj):
    L = []
    for i in ast.literal_eval(obj):
        L.append(i['name'])
    return L


import ast
movies['genres'] = movies['genres'].apply(convert)


movies.head()


movies['keywords'] = movies['keywords'].apply(convert)


movies


def convert3(obj):
    L = []
    counter = 0
    for i in ast.literal_eval(obj):
        if counter != 3:
            L.append(i['name'])
            counter+=1
        else:
            break
    return L 


movies['cast'] = movies['cast'].apply(convert3)


def fetch_director(obj):
    L = []
    for i in ast.literal_eval(obj):
        if i['job'] == 'Director':
            L.append(i['name'])
            break
    return L 


movies['crew'] = movies['crew'].apply(fetch_director)


movies['overview'] = movies['overview'].apply(lambda x:x.split())


movies['genres'] = movies['genres'].apply(lambda x:[i.replace(" ","") for i in x])
movies['crew'] = movies['crew'].apply(lambda x:[i.replace(" ","") for i in x])
movies['cast'] = movies['cast'].apply(lambda x:[i.replace(" ","") for i in x])
movies['keywords'] = movies['keywords'].apply(lambda x:[i.replace(" ","") for i in x])


movies.head()


movies['tags'] = movies['overview'] + movies['genres'] + movies['keywords'] + movies['cast'] + movies['crew']


movies.head()


new_df = movies[['movie_id','title','tags']]


new_df


new_df['tags'] = new_df['tags'].apply(lambda x:" ".join(x))


new_df['tags'][0]


new_df.head()


new_df['tags'] = new_df['tags'].apply(lambda x:x.lower())


new_df


len(cv.get_feature_names_out())


print(cv.get_feature_names_out())


import nltk


from nltk.stem.porter import PorterStemmer
ps = PorterStemmer()


def stem(text):
    y = []
    
    for i in text.split():
        y.append(ps.stem(i))

    return " ".join(y)


new_df['tags'] = new_df['tags'].apply(stem)


from sklearn.feature_extraction.text import CountVectorizer
cv = CountVectorizer(max_features = 5000,stop_words='english')


vectors = cv.fit_transform(new_df['tags']).toarray()


vectors


from sklearn.metrics.pairwise import cosine_similarity


similarity = cosine_similarity(vectors)


similarity[0]


def recommend(movie):
    movie_index = new_df[new_df['title'] == movie].index[0]
    distances = similarity[movie_index]
    movies_list = sorted(list(enumerate(distances)),reverse=True,key=lambda x:x[1])[1:6]

    for i in movies_list:
        print(new_df.iloc[i[0]].title)
    return
    


recommend('The Dark Knight')


import pickle
pickle.dump(new_df,open('movies.pkl','wb'))


pickle.dump(new_df.to_dict(),open('movie_dict.pkl','wb'))


pickle.dump(similarity,open('similarity.pkl','wb'))



