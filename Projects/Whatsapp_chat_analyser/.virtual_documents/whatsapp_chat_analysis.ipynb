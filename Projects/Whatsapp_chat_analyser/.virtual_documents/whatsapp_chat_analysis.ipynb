import re
import pandas as pd


f = open('WhatsApp Chat with IT-A3.txt','r',encoding='utf-8')


data = f.read()


print(data)


# Use pattern for extract meaningful values from the text

pattern = '\d{1,2}/\d{1,2}/\d{2,4},\s\d{1,2}:\d{2}\s-\s' 


message = re.split(pattern,data)[1:]
message


pattern = re.compile(
    r'(\d{1,2}/\d{1,2}/\d{2,4}),\s(\d{1,2}:\d{2}\s?[ap]m)\s-\s([^:]+):\s(.*)'
)

matches = pattern.findall(data)

df = pd.DataFrame(matches, columns=["Date", "Time", "user", "Message"])


df.shape


df["date"] = pd.to_datetime(
    df["Date"] + " " + df["Time"], 
    dayfirst=True,   # because your dates are in dd/mm/yy
    errors="coerce"  # in case some entries are weird, they become NaT
)

# Drop old columns if not needed
df = df.drop(columns=["Date", "Time"])


df.head()


df['year'] = df['date'].dt.year


df.head()


df['month'] = df['date'].dt.month_name()


df['day'] = df['date'].dt.day


df['hour'] = df['date'].dt.hour


df['minute'] = df['date'].dt.minute


df.head()


temp = df[df['Message']!='<Media omitted>\n']
words=[]

for word in df['Message']:
    if word.lower() != "<media omitted>":
        words.extend(word.lower().split())


from collections import Counter


pd.DataFrame(Counter(words).most_common(20))


print(df.columns)


import emoji


emojis=[]
for message in df['Message']:
    emojis.extend([c for c in message if emoji.is_emoji(c)])


pd.DataFrame(Counter(emojis).most_common(len(Counter(emojis))))


df[54:]


df['month_num'] = df['date'].dt.month


df


timeline = df.groupby(['year','month_num','month']).count()['Message'].reset_index()


time = []
for i in range(timeline.shape[0]):
    time.append(timeline['month'][i]+"-"+str(timeline['year'][i]))


time


timeline['time'] = time


timeline


df['day_name'] = df['date'].dt.day_name()


df['day_name'].value_counts()



