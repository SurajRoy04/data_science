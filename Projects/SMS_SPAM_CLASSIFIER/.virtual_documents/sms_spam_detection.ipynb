import numpy as np
import pandas as pd


# DATA CLEANING
# EDA
# TEXT PREPROCESING
# MODEL BUILDING
# EVALUATION
# IMPROVEMENT
# WEBSITE 
# DEPLOY


df = pd.read_csv("spam.csv", encoding="latin-1")


import sklearn


df.sample(5)





df.info()


# DROP THREE COLUMNS. THERE ARE NOT CONTAIN THAT MUCH VALUE


df.drop(columns=['Unnamed: 2','Unnamed: 3','Unnamed: 4'],inplace=True)


df.rename(columns={'v1':'target','v2':'text'},inplace = True)


from sklearn.preprocessing import LabelEncoder
encoder = LabelEncoder()


df['target'] = encoder.fit_transform(df['target'])


#Check missing value
df.isnull().sum()


# Check duplicates
df = df.drop_duplicates(keep='first')


df.shape





df.head()


df['target'].value_counts()


import matplotlib.pyplot as plt


plt.pie(df['target'].value_counts(), labels=['ham','spam'],autopct="%0.2f")
plt.show()


# Data is imbalanced



!pip install nltk



import nltk

nltk.download('punkt_tab')



df['num_characters'] = df['text'].apply(len)


df.head()


# num of words
df['num_words'] = df['text'].apply(lambda x:len(nltk.word_tokenize(x)))


df.head()


df['num_sentences'] = df['text'].apply(lambda x:len(nltk.sent_tokenize(x)))


df.head()


df[['num_characters','num_words','num_sentences']].describe()


# Ham messages
df[df['target'] == 0][['num_characters','num_words','num_sentences']].describe()


# spam messages
df[df['target'] == 1][['num_characters','num_words','num_sentences']].describe()


import seaborn as sns


sns.histplot(df[df['target'] == 0]['num_characters'])
sns.histplot(df[df['target'] == 1]['num_characters'],color = 'red')


sns.pairplot(df,hue='target')


#sns.heatmap(df.corr(),annot = True)


sns.heatmap(df.select_dtypes(include=['number']).corr(), annot=True)





def transform_text(text):
    text = text.lower()
    text = nltk.word_tokenize(text)

    y = []
    for i in text:
        if i.isalnum():
            y.append(i)

    text = y[:]
    y.clear()

    for i in text:
        if i not in stopwords.words('english') and i not in string.punctuation:
            y.append(i)

    text = y[:]
    y.clear()

    for i in text:
        y.append(ps.stem(i))
        
    return " ".join(y)



from nltk.corpus import stopwords
nltk.download('stopwords')



import string
string.punctuation


from nltk.stem.porter import PorterStemmer
ps = PorterStemmer()
ps.stem('dancing')


df['transformed_text'] = df['text'].apply(transform_text)


df.head()


!pip install wordcloud
from wordcloud import WordCloud


wc = WordCloud(width = 500,height = 500 ,min_font_size = 10, background_color = 'white')


spam_wc = wc.generate(df[df['target']==1]['transformed_text'].str.cat(sep = " "))
plt.figure()
plt.imshow(spam_wc)


ham_wc = wc.generate(df[df['target']==0]['transformed_text'].str.cat(sep = " "))
plt.figure()
plt.imshow(ham_wc)


spam_corpus = []
for msg in df[df['target']==1]['transformed_text'].tolist():
    for word in msg.split():
        spam_corpus.append(word)


from collections import Counter
sns.barplot(pd.DataFrame(Counter(spam_corpus).most_common(30))[0],pd.DataFrame(Counter(spam_corpus).most_common(30))[1])
plt.xtics(rotation = "vertical")


common_words = pd.DataFrame(Counter(spam_corpus).most_common(30))

# rename columns for clarity
common_words.columns = ['word', 'count']

# plot
plt.figure(figsize=(12,6))
sns.barplot(x='word', y='count', data=common_words)
plt.xticks(rotation=90)   # <-- correct is xticks, not xtics
plt.show()


ham_corpus = []
for msg in df[df['target']==0]['transformed_text'].tolist():
    for word in msg.split():
        ham_corpus.append(word)


common_words_ham = pd.DataFrame(Counter(ham_corpus).most_common(30))

# rename columns for clarity
common_words_ham.columns = ['word', 'count']

# plot
plt.figure(figsize=(12,6))
sns.barplot(x='word', y='count', data=common_words)
plt.xticks(rotation=90)   # <-- correct is xticks, not xtics
plt.show()





from sklearn.feature_extraction.text import CountVectorizer,TfidfVectorizer
cv = CountVectorizer()
tfidf = TfidfVectorizer(max_features = 3000)


#X = cv.fit_transform(df['transformed_text']).toarray()
X = tfidf.fit_transform(df['transformed_text']).toarray()


X.shape


y = df['target'].values


y


from sklearn.model_selection import train_test_split

X_train , X_test , y_train , y_test = train_test_split(X,y,test_size = 0.2 , random_state = 2)


from sklearn.naive_bayes import GaussianNB, MultinomialNB, BernoulliNB
from sklearn.metrics import accuracy_score,confusion_matrix,precision_score
gnb = GaussianNB()
mnb = MultinomialNB()
bnb = BernoulliNB()


gnb.fit(X_train , y_train)
y_pred1 = gnb.predict(X_test)
print(accuracy_score(y_test,y_pred1))
print(confusion_matrix(y_test,y_pred1))
print(precision_score(y_test,y_pred1))


mnb.fit(X_train , y_train)
y_pred2 = mnb.predict(X_test)
print(accuracy_score(y_test,y_pred2))
print(confusion_matrix(y_test,y_pred2))
print(precision_score(y_test,y_pred2))


bnb.fit(X_train , y_train)
y_pred3 = bnb.predict(X_test)
print(accuracy_score(y_test,y_pred3))
print(confusion_matrix(y_test,y_pred3))
print(precision_score(y_test,y_pred3))


import pickel
pickel.dump(tfidf.open('vectorizer.pkl','wb'))
pickel.dump(mnb,open('model.pkl','wb'))



