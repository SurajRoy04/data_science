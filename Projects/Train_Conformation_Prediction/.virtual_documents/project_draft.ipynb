import numpy as np
import pandas as pd
import matplotlib.pyplot as plt
import seaborn as sns


df = pd.read_csv("database.csv")


df.head()


df.info()


df.columns


df.describe()


print("\n✅ Missing values:")
print(df.isnull().sum())


print("\n✅ Duplicates:")
print(df.duplicated().sum())


print("\n✅ Class Balance (Confirmed vs Not Confirmed):")
print(df['confirmed'].value_counts())


df[df.duplicated()].head()


new_df = df.drop_duplicates()


new_df.duplicated().sum()


plt.figure(figsize=(6,4))
sns.countplot(x="coach_type", data = df, hue="confirmed", palette="Set2")
plt.title("Booking Count by Coach Type")
plt.xlabel("Coach Type")
plt.ylabel("Count")
plt.legend(title="Confirmed (1=Yes,0=No)")
plt.show()


df_copy = df.copy()


df_copy['journey_date'] = df.copy()['journey_date'] = pd.to_datetime(df.copy()['journey_date'])


df_copy['journey_date']


#monthly_conf = df_copy.groupby('month')['confirmed'].sum()


df_copy['month'] = df_copy['journey_date'].dt.to_period('M')


monthly_conf = df_copy.groupby('month')['confirmed'].sum()


monthly_conf.head()


#plt.figure(figsize=(10,6))
#plt.plot(monthly_conf[:,0],monthly_conf[:,1])
#plt.title("Number of Confirmed Bookings per Month")
#plt.xlabel("Month")
#plt.ylabel("Confirmed Bookings")
#plt.xticks(rotation=45)
#plt.show()


monthly_conf = (
    df_copy.groupby(df_copy['journey_date'].dt.to_period('M'))['confirmed']
    .sum()
    .reset_index()
)

# Convert Period to timestamp (start of month)
monthly_conf['journey_date'] = monthly_conf['journey_date'].dt.to_timestamp()

plt.figure(figsize=(10,6))
plt.plot(monthly_conf['journey_date'], monthly_conf['confirmed'], marker='o')
plt.title("Number of Confirmed Bookings per Month")
plt.xlabel("Month")
plt.ylabel("Confirmed Bookings")
plt.xticks(rotation=45)
plt.show()



df_copy





df_copy.head()


from sklearn.preprocessing import OneHotEncoder

ohe = OneHotEncoder(sparse_output = False)
df_train_num = df_copy[["train_number"]]
train_number_enc = ohe.fit_transform(df_train_num)


train_number_enc


train_number_ohe = pd.DataFrame(
    train_number_enc,
    columns = ohe.get_feature_names_out()
)


train_number_ohe


df_encoded = pd.concat([df_copy,train_number_ohe],axis = 1)


df_encoded.head()


df_coach_type = df_copy[["coach_type"]]
coach_type_enc = ohe.fit_transform(df_coach_type)


coach_type_ohe = pd.DataFrame(
    coach_type_enc,
    columns = ohe.get_feature_names_out()
)


df_encoded = pd.concat([df_encoded,coach_type_ohe],axis = 1)


df_encoded


df_start_station = df_copy[["start_station"]]
start_station_enc = ohe.fit_transform(df_start_station)

start_station_ohe = pd.DataFrame(
    start_station_enc,
    columns = ohe.get_feature_names_out()
)

df_encoded = pd.concat([df_encoded,start_station_ohe],axis = 1)
df_encoded


df_encoded


df_end_station = df_copy[["end_station"]]
end_station_enc = ohe.fit_transform(df_end_station)

end_station_ohe = pd.DataFrame(
    end_station_enc,
    columns = ohe.get_feature_names_out()
)

df_encoded = pd.concat([df_encoded,end_station_ohe],axis = 1)
df_encoded


print(df_encoded["start_station_alipurduar"])


# Define weekend/near-weekend days
weekend_days = ["Friday", "Saturday", "Sunday"]

# Create new binary column
df_encoded["is_weekend"] = df_encoded["day_of_week"].isin(weekend_days).astype(int)
df_encoded2 = df_encoded.copy()
print(df_encoded[["day_of_week", "is_weekend"]].head())



df_encoded = df_encoded.drop(["start_station", "end_station", "day_of_week", "train_number","journey_date",	"booking_date","coach_type"], axis=1)


df_encoded.head()


import re

def convert_booking_status(status):
    if status == "CNF":
        return 0
    elif "GNWL" in status:
        num = int(re.findall(r'\d+', status)[0])  # extract number
        return num
    elif "PQWL" in status:
        num = int(re.findall(r'\d+', status)[0])  # extract number
        return num * 100
    else:
        return None   # if some unknown value comes

# Apply transformation
df_encoded["booking_status_converted"] = df_encoded["booking_status"].apply(convert_booking_status)



df_encoded


df_encoded = df_encoded.drop(["booking_status"],axis = 1)


df_encoded.head()


df_encoded["month"] = df_encoded["month"].dt.month



df_encoded.head()


from sklearn.model_selection import StratifiedShuffleSplit
x = df_encoded.drop(["confirmed"], axis=1).copy()
y = df_encoded["confirmed"].copy()

# Create StratifiedShuffleSplit
sss = StratifiedShuffleSplit(n_splits=1, test_size=0.3, random_state=42)

for train_index, test_index in sss.split(x, y):
    x_train, x_test = x.iloc[train_index], x.iloc[test_index]
    y_train, y_test = y.iloc[train_index], y.iloc[test_index]



from sklearn.tree import DecisionTreeClassifier

classifier = DecisionTreeClassifier()
classifier.fit(x_train,y_train)

y_pred = classifier.predict(x_test)




from sklearn.metrics import classification_report

print("Classification_report")
print(classification_report(y_test,y_pred))


x.head()


def get_user_input():
    print("Enter journey details to predict ticket confirmation:\n")
    
    # Numeric inputs
    days_before = int(input("Days before journey: "))
    month = int(input("Month (1-12): "))
    
    # Train number
    train_number = int(input("Train number (12343 / 13149): "))
    train_12343 = 1 if train_number == 12343 else 0
    train_13149 = 1 if train_number == 13149 else 0

    # Coach type
    coach = input("Coach type (AC / Sleeper): ").strip().lower()
    coach_ac = 1 if coach == "ac" else 0
    coach_sleeper = 1 if coach == "sleeper" else 0

    # Start station
    start_station = input("Start station (alipurduar/kishanganj/malda/naxalbari/njp/sealdah): ").strip().lower()
    start_onehot = {s: 0 for s in ["alipurduar","kishanganj","malda","naxalbari","njp","sealdah"]}
    if start_station in start_onehot:
        start_onehot[start_station] = 1

    # End station
    end_station = input("End station (alipurduar/kishanganj/malda/naxalbari/njp/sealdah): ").strip().lower()
    end_onehot = {s: 0 for s in ["alipurduar","kishanganj","malda","naxalbari","njp","sealdah"]}
    if end_station in end_onehot:
        end_onehot[end_station] = 1

    # Weekend
    weekend = input("Is weekend? (yes/no): ").strip().lower()
    is_weekend = 1 if weekend == "yes" else 0

    # Booking status
    booking_status = input("Booking status (e.g., CNF, 15GNWL, 5PQWL): ").strip().upper()
    if booking_status == "CNF":
        booking_status_converted = 0
    elif "GNWL" in booking_status:
        num = int(booking_status.replace("GNWL", ""))
        booking_status_converted = num
    elif "PQWL" in booking_status:
        num = int(booking_status.replace("PQWL", ""))
        booking_status_converted = num * 100
    else:
        booking_status_converted = 0

    # Build row with correct order
    row = [
        days_before, month,
        train_12343, train_13149,
        coach_ac, coach_sleeper,
        start_onehot["alipurduar"], start_onehot["kishanganj"], start_onehot["malda"],
        start_onehot["naxalbari"], start_onehot["njp"], start_onehot["sealdah"],
        end_onehot["alipurduar"], end_onehot["kishanganj"], end_onehot["malda"],
        end_onehot["naxalbari"], end_onehot["njp"], end_onehot["sealdah"],
        is_weekend, booking_status_converted
    ]
    
    return pd.DataFrame([row], columns=feature_names)


# ==== Example usage ====
manual_row = get_user_input()
print("\nYour input row:\n", manual_row)

# Prediction
y_pred = classifier.predict(manual_row)[0]
if y_pred == 1:
    print("\n✅ Prediction: Ticket will get CONFIRMED")
else:
    print("\n❌ Prediction: Ticket will NOT be confirmed")



