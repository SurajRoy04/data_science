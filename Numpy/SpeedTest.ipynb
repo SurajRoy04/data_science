{
 "cells": [
  {
   "cell_type": "code",
   "execution_count": 3,
   "id": "1ea7d558-2f28-4a33-8de5-fef5b8b0ca99",
   "metadata": {},
   "outputs": [],
   "source": [
    "import numpy as np\n",
    "import time"
   ]
  },
  {
   "cell_type": "code",
   "execution_count": 43,
   "id": "d1bce792-2bd1-4165-9315-5ec51302cbe5",
   "metadata": {},
   "outputs": [
    {
     "name": "stdout",
     "output_type": "stream",
     "text": [
      "[0, 2, 4, 6, 8, 10, 12, 14, 16, 18]\n",
      "0.37619495391845703\n"
     ]
    }
   ],
   "source": [
    "#Using Python list\n",
    "\n",
    "size = 1_000_000\n",
    "l1 = list(range(size))\n",
    "l2 = list(range(size))\n",
    "\n",
    "start = time.time()\n",
    "add = [x+y for x,y in zip(l1,l2)]\n",
    "end = time.time()\n",
    "\n",
    "print(add[0:10])\n",
    "print(end-start)"
   ]
  },
  {
   "cell_type": "code",
   "execution_count": 45,
   "id": "0541267e-4666-40e9-9d1c-3045c1c88770",
   "metadata": {},
   "outputs": [
    {
     "name": "stdout",
     "output_type": "stream",
     "text": [
      "[ 0  2  4  6  8 10 12 14 16 18]\n",
      "0.044198036193847656\n"
     ]
    }
   ],
   "source": [
    "#Using Numpy array\n",
    "\n",
    "size = 1_000_000\n",
    "l1 = np.array(list(range(size)))\n",
    "l2 = np.array(list(range(size)))\n",
    "\n",
    "start = time.time()\n",
    "add = l1+l2\n",
    "end = time.time()\n",
    "\n",
    "print(add[0:10])\n",
    "print(end-start)"
   ]
  },
  {
   "cell_type": "code",
   "execution_count": 47,
   "id": "247f13c0-e256-46e7-a5a4-f53e67f8bf17",
   "metadata": {},
   "outputs": [
    {
     "name": "stdout",
     "output_type": "stream",
     "text": [
      "[1 2 3 4 5]\n"
     ]
    }
   ],
   "source": [
    "# 1D Array\n",
    "\n",
    "arr1 = np.array([1,2,3,4,5])\n",
    "print(arr1)"
   ]
  },
  {
   "cell_type": "code",
   "execution_count": 51,
   "id": "7801eeb9-0361-4656-9c2f-18e7788cd7e0",
   "metadata": {},
   "outputs": [
    {
     "name": "stdout",
     "output_type": "stream",
     "text": [
      "[[ 1  2  3  4  5]\n",
      " [ 6  7  8  9 10]]\n"
     ]
    }
   ],
   "source": [
    "# 2D array\n",
    "\n",
    "arr2 = np.array([[1,2,3,4,5],[6,7,8,9,10]])\n",
    "print(arr2)"
   ]
  },
  {
   "cell_type": "code",
   "execution_count": 53,
   "id": "55e14d58-a612-42b4-b775-ad6e20d3be54",
   "metadata": {},
   "outputs": [
    {
     "name": "stdout",
     "output_type": "stream",
     "text": [
      "Type : <class 'numpy.ndarray'>\n",
      "Shape : (2, 5)\n"
     ]
    }
   ],
   "source": [
    "# Checking type and Shape\n",
    "\n",
    "print(\"Type :\",type(arr1))\n",
    "print(\"Shape :\",arr2.shape)"
   ]
  },
  {
   "cell_type": "code",
   "execution_count": 55,
   "id": "f395880f-f31e-4103-aca7-d95e446290f5",
   "metadata": {},
   "outputs": [
    {
     "name": "stdout",
     "output_type": "stream",
     "text": [
      "Python list size : 8056000 bytes\n",
      "Numpy Array size : 4000 bytes\n"
     ]
    }
   ],
   "source": [
    "import sys\n",
    "list_data = list(range(1000))\n",
    "numpy_data = np.array(list_data)\n",
    "\n",
    "print(\"Python list size :\",sys.getsizeof(list_data)*len(list_data), \"bytes\")\n",
    "print(\"Numpy Array size :\",numpy_data.nbytes, \"bytes\")"
   ]
  },
  {
   "cell_type": "code",
   "execution_count": 81,
   "id": "ccbda67e-c023-4643-848d-3efdde23aa7a",
   "metadata": {},
   "outputs": [
    {
     "name": "stdout",
     "output_type": "stream",
     "text": [
      "0.01707768440246582\n",
      "0.002006053924560547\n"
     ]
    }
   ],
   "source": [
    "#           Vectorization - No more loops!\n",
    "\n",
    "#Python list (loop-based)\n",
    "size = 1_000_00\n",
    "l1 = list(range(size))\n",
    "start = time.time()\n",
    "list_squares = [x ** 2 for x in l1]\n",
    "end = time.time()\n",
    "print(end-start)\n",
    "\n",
    "#Numpy (Vectorized)  it use SIMD (Single instruction , multiple Data)\n",
    "arr1 = np.array(l1)\n",
    "start = time.time()\n",
    "numpy_squares = arr1 ** 2\n",
    "end = time.time()\n",
    "print( end - start )\n"
   ]
  },
  {
   "cell_type": "code",
   "execution_count": 85,
   "id": "eb919796-fceb-45bd-9619-7c6d2c596615",
   "metadata": {},
   "outputs": [
    {
     "name": "stdout",
     "output_type": "stream",
     "text": [
      "[ 10  11  12  13  14  15  16  17  18  19  20  21  22  23  24  25  26  27\n",
      "  28  29  30  31  32  33  34  35  36  37  38  39  40  41  42  43  44  45\n",
      "  46  47  48  49  50  51  52  53  54  55  56  57  58  59  60  61  62  63\n",
      "  64  65  66  67  68  69  70  71  72  73  74  75  76  77  78  79  80  81\n",
      "  82  83  84  85  86  87  88  89  90  91  92  93  94  95  96  97  98  99\n",
      " 100]\n",
      "(91,)\n"
     ]
    }
   ],
   "source": [
    "# Create a numpy array range from 10 to 100\n",
    "arr = np.arange(10,101)\n",
    "print(arr)\n",
    "print(arr.shape)"
   ]
  },
  {
   "cell_type": "code",
   "execution_count": null,
   "id": "5d4d5fbf-beac-446f-a44f-db0767b0193f",
   "metadata": {},
   "outputs": [],
   "source": []
  },
  {
   "cell_type": "code",
   "execution_count": null,
   "id": "569ad19b-8630-484d-bb1e-3741f28bc366",
   "metadata": {},
   "outputs": [],
   "source": []
  }
 ],
 "metadata": {
  "kernelspec": {
   "display_name": "Python [conda env:base] *",
   "language": "python",
   "name": "conda-base-py"
  },
  "language_info": {
   "codemirror_mode": {
    "name": "ipython",
    "version": 3
   },
   "file_extension": ".py",
   "mimetype": "text/x-python",
   "name": "python",
   "nbconvert_exporter": "python",
   "pygments_lexer": "ipython3",
   "version": "3.12.7"
  }
 },
 "nbformat": 4,
 "nbformat_minor": 5
}
