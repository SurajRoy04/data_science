{
 "cells": [
  {
   "cell_type": "code",
   "execution_count": 1,
   "id": "0e93c9de-37cd-44cf-a595-4a6915ca9a3e",
   "metadata": {},
   "outputs": [],
   "source": [
    "import numpy as np"
   ]
  },
  {
   "cell_type": "code",
   "execution_count": 3,
   "id": "d16fb3c7-b1d7-4dcf-980f-cc69c2cfd233",
   "metadata": {},
   "outputs": [],
   "source": [
    "arr = np.array([[1, 2, 3],\n",
    "[4, 5, 6],\n",
    "[7, 8, 9]])\n"
   ]
  },
  {
   "cell_type": "code",
   "execution_count": 5,
   "id": "9cb5a3e3-0ffd-4638-bdb3-196bd1fd01d4",
   "metadata": {},
   "outputs": [
    {
     "data": {
      "text/plain": [
       "array([ 6, 15, 24])"
      ]
     },
     "execution_count": 5,
     "metadata": {},
     "output_type": "execute_result"
    }
   ],
   "source": [
    "np.sum(arr,axis=1)"
   ]
  },
  {
   "cell_type": "code",
   "execution_count": 7,
   "id": "ddee1a1a-f273-46ac-9c6d-c09b1cfaca82",
   "metadata": {},
   "outputs": [
    {
     "data": {
      "text/plain": [
       "2"
      ]
     },
     "execution_count": 7,
     "metadata": {},
     "output_type": "execute_result"
    }
   ],
   "source": [
    "arr[0,1]"
   ]
  },
  {
   "cell_type": "code",
   "execution_count": 9,
   "id": "761c86cb-725a-4372-b2e7-b622f64304be",
   "metadata": {},
   "outputs": [
    {
     "data": {
      "text/plain": [
       "array([[2, 3],\n",
       "       [5, 6]])"
      ]
     },
     "execution_count": 9,
     "metadata": {},
     "output_type": "execute_result"
    }
   ],
   "source": [
    "arr[0:2,1:3]"
   ]
  },
  {
   "cell_type": "code",
   "execution_count": null,
   "id": "d7aca583-43c3-4d82-9c9a-93d76fcbe0a1",
   "metadata": {},
   "outputs": [],
   "source": []
  }
 ],
 "metadata": {
  "kernelspec": {
   "display_name": "Python [conda env:base] *",
   "language": "python",
   "name": "conda-base-py"
  },
  "language_info": {
   "codemirror_mode": {
    "name": "ipython",
    "version": 3
   },
   "file_extension": ".py",
   "mimetype": "text/x-python",
   "name": "python",
   "nbconvert_exporter": "python",
   "pygments_lexer": "ipython3",
   "version": "3.12.7"
  }
 },
 "nbformat": 4,
 "nbformat_minor": 5
}
