import numpy as np


arr = np.array([1,3,4])
print(arr)


np.zeros((2,6))


np.full((8,9),2)


np.eye(4)


np.arange(1,100,3)


np.linspace(0,1,5)


myarr = np.array([[1,2,3],[4,5,6],[7,8,9]])
myarr


myarr.size


myarr.ndim


myarr.dtype


import numpy as np
arr = np.array([[1,2,3],[4,5,6],[7,8,9]])


mask = arr[:,0] > 3


mask2 = arr[:,1] < 10


print(arr[mask & mask2])


arr.shape




