{
 "cells": [
  {
   "cell_type": "code",
   "execution_count": 3,
   "id": "bed1796f-70d2-4b54-81b7-fdc6b5b824c5",
   "metadata": {},
   "outputs": [],
   "source": [
    "import numpy as np"
   ]
  },
  {
   "cell_type": "code",
   "execution_count": 6,
   "id": "6e15d1ee-9047-45bb-a697-37fc20933f84",
   "metadata": {},
   "outputs": [],
   "source": [
    "arr = np.array([[1,2,3],[4,5,6],[7,8,9]])"
   ]
  },
  {
   "cell_type": "code",
   "execution_count": 8,
   "id": "38cabc4c-4acb-43aa-8f3e-19746c71c4ea",
   "metadata": {},
   "outputs": [
    {
     "data": {
      "text/plain": [
       "array([[1, 2, 3],\n",
       "       [4, 5, 6],\n",
       "       [7, 8, 9]])"
      ]
     },
     "execution_count": 8,
     "metadata": {},
     "output_type": "execute_result"
    }
   ],
   "source": [
    "arr"
   ]
  },
  {
   "cell_type": "code",
   "execution_count": 10,
   "id": "3c05463f-cd15-4201-be2f-e355863c243d",
   "metadata": {},
   "outputs": [],
   "source": [
    "flat = arr.flatten()"
   ]
  },
  {
   "cell_type": "code",
   "execution_count": 12,
   "id": "4b4a7855-8e2d-4bbd-bd80-c3c738086deb",
   "metadata": {},
   "outputs": [
    {
     "data": {
      "text/plain": [
       "array([1, 2, 3, 4, 5, 6, 7, 8, 9])"
      ]
     },
     "execution_count": 12,
     "metadata": {},
     "output_type": "execute_result"
    }
   ],
   "source": [
    "flat"
   ]
  },
  {
   "cell_type": "code",
   "execution_count": 16,
   "id": "a53cf151-bf30-4766-973f-ca6fb2f35761",
   "metadata": {},
   "outputs": [
    {
     "data": {
      "text/plain": [
       "array([4, 5, 6])"
      ]
     },
     "execution_count": 16,
     "metadata": {},
     "output_type": "execute_result"
    }
   ],
   "source": [
    "flat[3:6]"
   ]
  },
  {
   "cell_type": "code",
   "execution_count": 18,
   "id": "163dc075-1fbe-4985-8654-6a1519ffa2f6",
   "metadata": {},
   "outputs": [
    {
     "data": {
      "text/plain": [
       "array([1, 2, 3])"
      ]
     },
     "execution_count": 18,
     "metadata": {},
     "output_type": "execute_result"
    }
   ],
   "source": [
    "flat[:3]      # 0 to 2"
   ]
  },
  {
   "cell_type": "code",
   "execution_count": 20,
   "id": "d3c33a99-9c31-43b2-a7e9-1a8519ec623e",
   "metadata": {},
   "outputs": [
    {
     "data": {
      "text/plain": [
       "array([1, 3, 5, 7, 9])"
      ]
     },
     "execution_count": 20,
     "metadata": {},
     "output_type": "execute_result"
    }
   ],
   "source": [
    "flat[::2]"
   ]
  },
  {
   "cell_type": "code",
   "execution_count": 22,
   "id": "1e073b98-b488-49bd-8a89-9ebbaf05f5ed",
   "metadata": {},
   "outputs": [],
   "source": [
    "flat[3] = 13"
   ]
  },
  {
   "cell_type": "code",
   "execution_count": 24,
   "id": "be86a8bc-23e4-4a0f-8799-77ac2421d31b",
   "metadata": {},
   "outputs": [
    {
     "data": {
      "text/plain": [
       "array([ 1,  2,  3, 13,  5,  6,  7,  8,  9])"
      ]
     },
     "execution_count": 24,
     "metadata": {},
     "output_type": "execute_result"
    }
   ],
   "source": [
    "flat\n"
   ]
  },
  {
   "cell_type": "code",
   "execution_count": 44,
   "id": "1bd59872-3df1-4507-b247-6e6b391326ab",
   "metadata": {},
   "outputs": [],
   "source": [
    "b=flat[3:6]"
   ]
  },
  {
   "cell_type": "code",
   "execution_count": 46,
   "id": "ee1804c4-8bb5-4056-9502-c81e4af3fb6a",
   "metadata": {},
   "outputs": [],
   "source": [
    "# Slicing return view not copy   \n",
    "\n",
    "# To work with copy\n",
    "b=flat[3:6].copy()"
   ]
  },
  {
   "cell_type": "code",
   "execution_count": 48,
   "id": "79c163f1-fc0e-411a-869f-8671e78e4006",
   "metadata": {},
   "outputs": [
    {
     "data": {
      "text/plain": [
       "array([ 3, 12,  7])"
      ]
     },
     "execution_count": 48,
     "metadata": {},
     "output_type": "execute_result"
    }
   ],
   "source": [
    "# Fancy indexing\n",
    "\n",
    "flat[[2,4,6]]"
   ]
  },
  {
   "cell_type": "code",
   "execution_count": 50,
   "id": "caa84736-b60a-453a-b28d-0cf5b3821d7f",
   "metadata": {},
   "outputs": [],
   "source": [
    "#     solving Exercise"
   ]
  },
  {
   "cell_type": "code",
   "execution_count": 54,
   "id": "23bb4962-e193-4051-9e6d-bf24ae4370a9",
   "metadata": {},
   "outputs": [],
   "source": [
    "#Create a 3*3 array filled with random numbers and print its shape\n"
   ]
  },
  {
   "cell_type": "code",
   "execution_count": 56,
   "id": "67fdafd5-06c7-43ff-b7cf-932471e81b3b",
   "metadata": {},
   "outputs": [],
   "source": [
    "arr = np.random.rand(3,3)"
   ]
  },
  {
   "cell_type": "code",
   "execution_count": 58,
   "id": "81f3a378-adf9-4c58-8f26-0a46a82a60eb",
   "metadata": {},
   "outputs": [
    {
     "data": {
      "text/plain": [
       "array([[0.3669213 , 0.31471493, 0.26292702],\n",
       "       [0.68596977, 0.3226022 , 0.4116525 ],\n",
       "       [0.94944379, 0.10326656, 0.70042212]])"
      ]
     },
     "execution_count": 58,
     "metadata": {},
     "output_type": "execute_result"
    }
   ],
   "source": [
    "arr"
   ]
  },
  {
   "cell_type": "code",
   "execution_count": 60,
   "id": "3ec87893-958a-42a0-88ef-1ff132f5eb30",
   "metadata": {},
   "outputs": [],
   "source": [
    "# Convert an array of floats [1.1,2.2,3.3,...] into integers."
   ]
  },
  {
   "cell_type": "code",
   "execution_count": 70,
   "id": "c7c28aa1-14fb-486a-83c6-03b1a1c1d4a4",
   "metadata": {},
   "outputs": [
    {
     "name": "stdout",
     "output_type": "stream",
     "text": [
      "<class 'numpy.ndarray'>\n"
     ]
    }
   ],
   "source": [
    "arr2 = np.array([1.1,2.2,3.3])\n",
    "print(type(arr2))"
   ]
  },
  {
   "cell_type": "code",
   "execution_count": 72,
   "id": "558db8a9-eec7-4d91-a121-0d39dbbadf7e",
   "metadata": {},
   "outputs": [],
   "source": [
    "arr_int = arr2.astype(int);"
   ]
  },
  {
   "cell_type": "code",
   "execution_count": 78,
   "id": "a11bffa5-2fe5-49ff-96a9-aa6caec1051e",
   "metadata": {},
   "outputs": [
    {
     "name": "stdout",
     "output_type": "stream",
     "text": [
      "[1 2 3]\n"
     ]
    }
   ],
   "source": [
    "print(arr_int)"
   ]
  },
  {
   "cell_type": "code",
   "execution_count": 80,
   "id": "6c526cd2-d3cc-441d-ba81-58463f9ce00a",
   "metadata": {},
   "outputs": [],
   "source": [
    "#Use Fancy indexing to extract even numbers from [1,2,3,4,5,6]"
   ]
  },
  {
   "cell_type": "code",
   "execution_count": 90,
   "id": "1bde14c8-8f18-4ded-9620-906658d581f1",
   "metadata": {},
   "outputs": [
    {
     "name": "stdout",
     "output_type": "stream",
     "text": [
      "[2 4 6 8]\n",
      "[2 4 6 8]\n"
     ]
    }
   ],
   "source": [
    "arr = np.array([1,2,3,4,5,6,7,8,9])\n",
    "even_arr=arr[1::2]\n",
    "even=arr[arr%2 == 0]\n",
    "print(even_arr)\n",
    "print(even)"
   ]
  },
  {
   "cell_type": "code",
   "execution_count": 92,
   "id": "7eb1dffc-feb2-4a96-a68a-d2f1b0534017",
   "metadata": {},
   "outputs": [],
   "source": [
    "# Reshape a 1d array of size 9 into a 3*3 matrix"
   ]
  },
  {
   "cell_type": "code",
   "execution_count": 96,
   "id": "e43db006-7b72-4758-8f86-4255c53a3411",
   "metadata": {},
   "outputs": [
    {
     "name": "stdout",
     "output_type": "stream",
     "text": [
      "[[1 2 3]\n",
      " [4 5 6]\n",
      " [7 8 9]]\n"
     ]
    }
   ],
   "source": [
    "reshaped = arr.reshape((3,3))\n",
    "print(reshaped)"
   ]
  },
  {
   "cell_type": "code",
   "execution_count": 98,
   "id": "4b33ae34-73ab-4a03-889e-c015a290636f",
   "metadata": {},
   "outputs": [],
   "source": [
    "# Use boolean masking to filter numbers greater than 50 in an array"
   ]
  },
  {
   "cell_type": "code",
   "execution_count": 102,
   "id": "2ab0b651-bc65-476c-a5fd-5d7d1632b50e",
   "metadata": {},
   "outputs": [
    {
     "name": "stdout",
     "output_type": "stream",
     "text": [
      "[60]\n"
     ]
    }
   ],
   "source": [
    "arr3 = np.array([1,3,50,60,40,8,7,5])\n",
    "arr_mask=arr3>50\n",
    "print(arr3[arr_mask])"
   ]
  },
  {
   "cell_type": "code",
   "execution_count": null,
   "id": "563cc609-a8ea-4824-917b-876d573a9d9d",
   "metadata": {},
   "outputs": [],
   "source": []
  }
 ],
 "metadata": {
  "kernelspec": {
   "display_name": "Python [conda env:base] *",
   "language": "python",
   "name": "conda-base-py"
  },
  "language_info": {
   "codemirror_mode": {
    "name": "ipython",
    "version": 3
   },
   "file_extension": ".py",
   "mimetype": "text/x-python",
   "name": "python",
   "nbconvert_exporter": "python",
   "pygments_lexer": "ipython3",
   "version": "3.12.7"
  }
 },
 "nbformat": 4,
 "nbformat_minor": 5
}
